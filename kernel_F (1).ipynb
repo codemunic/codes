{
  "cells": [
    {
      "metadata": {
        "_uuid": "648a348f7ad14ad653d2ea753071dbc0d62b49bd"
      },
      "cell_type": "markdown",
      "source": "### NOTE :: Some cols meaning\n- 4G_rat => Tower supports 3G/4G indicator\n- par_min => Minute bucket under consideration\n- Beam_direction: Tower beam direction\n- Cell_range: Cell tower range (How Far Can a Cell Tower Be for a Cellphone to Pick Up the Signal)\n- Tilt: Cell tower tilt \n- Ran_vendor: Service Vendor\n<hr>\n- [RAN](https://en.wikipedia.org/wiki/Radio_access_network) - Radio Access Network\n- [Backhaul](https://en.wikipedia.org/wiki/Backhaul_\\(telecommunications)"
    },
    {
      "metadata": {
        "_uuid": "4a86231540118e883bbc6ca3d4c8c95582657ca5"
      },
      "cell_type": "markdown",
      "source": "- Correct adjusting tilts, or the inclination of the antenna in relation to an axis. With the tilt, we direct irradiation further down (or higher), concentrating the energy in the new desired direction.\n- The tilt represents the inclination or angle of the antenna to its axis.\n- When the antenna is tilted down, we call it 'downtilt', which is the most common use. If the inclination is up (very rare and extreme cases), we call 'uptilt'.\n- Downtilt is used when we want to reduce interference and/or coverage in some specific areas, having each cell to meet only its designed area."
    },
    {
      "metadata": {
        "_uuid": "7b7cd12a7caaad23ff65e18eb014694435871274"
      },
      "cell_type": "markdown",
      "source": "### NOTE::\n- Different cell towers (given by different cell names) have different load capacity which depends on its hardware part (here, tilt, cell-tower range, beam direction).\nSO, given the statistics about usage and metadata like date, we need to predict the type of congestion"
    },
    {
      "metadata": {
        "trusted": true,
        "_uuid": "42ae975c9b4202553112bac3fce03cf01adaf789"
      },
      "cell_type": "code",
      "source": "%matplotlib inline\n\nimport numpy as np\nimport pandas as pd\nimport matplotlib.pyplot as plt\nimport seaborn as sns",
      "execution_count": null,
      "outputs": []
    },
    {
      "metadata": {
        "trusted": true,
        "_uuid": "727f729a1f50053eb5741406d64434ac681a521d"
      },
      "cell_type": "code",
      "source": "#standard plotly imports\nimport plotly.plotly as py\nimport plotly.graph_objs as go\nfrom plotly.offline import iplot, init_notebook_mode\n\n#cufflinks + plotly\nimport cufflinks as cf\ncf.go_offline(connected = True)\n# set global\ncf.set_config_file(world_readable = True, theme = 'pearl', offline = True)\n\ninit_notebook_mode(connected = True)",
      "execution_count": null,
      "outputs": []
    },
    {
      "metadata": {
        "trusted": true,
        "_uuid": "6d45f5b326c5f048b7eb396cdbeea80b1f235f9a"
      },
      "cell_type": "code",
      "source": "from scipy.stats import norm",
      "execution_count": null,
      "outputs": []
    },
    {
      "metadata": {
        "trusted": true,
        "_uuid": "09a99d43a8d92ac8b1370487627781c78686e71d"
      },
      "cell_type": "code",
      "source": "sns.set_style('whitegrid', {'axes,grid' : False})",
      "execution_count": null,
      "outputs": []
    },
    {
      "metadata": {
        "trusted": true,
        "_uuid": "509403106ddecfd1208cf5c56eeb157bfc28cf86"
      },
      "cell_type": "code",
      "source": "pd.set_option('display.max_columns', 45)",
      "execution_count": null,
      "outputs": []
    },
    {
      "metadata": {
        "trusted": true,
        "_uuid": "49593281e5dbe2547fc22a844e31cace0dd1ab66"
      },
      "cell_type": "code",
      "source": "train_df = pd.read_csv('../input/train_upd.csv')\ntest_df = pd.read_csv('../input/test_upd.csv')",
      "execution_count": null,
      "outputs": []
    },
    {
      "metadata": {
        "trusted": true,
        "_uuid": "b5b4bb4b1f85a1b55bb3194e768773f15205e7fd"
      },
      "cell_type": "code",
      "source": "y_test = pd.read_csv('../input/y_test.csv')",
      "execution_count": null,
      "outputs": []
    },
    {
      "metadata": {
        "trusted": true,
        "_uuid": "b0e0563d6b0b78954930b7ffb6b7d280ac1cda1e"
      },
      "cell_type": "code",
      "source": "160261 in test_df['cell_name'].values.tolist()",
      "execution_count": null,
      "outputs": []
    },
    {
      "metadata": {
        "trusted": true,
        "_uuid": "d1695049a3f32a0e0c42f87a43e7478f85f06c59"
      },
      "cell_type": "code",
      "source": "tmp1 = pd.concat((test_df, y_test.drop(columns = 'cell_name')), axis = 1)",
      "execution_count": null,
      "outputs": []
    },
    {
      "metadata": {
        "trusted": true,
        "_uuid": "5c13d71d77d124a399430ad6dc6643d3e2c2a9a0"
      },
      "cell_type": "code",
      "source": "train_df.head()",
      "execution_count": null,
      "outputs": []
    },
    {
      "metadata": {
        "trusted": true,
        "_uuid": "4a825435a76a7a19661d8c3a29a223929e1867e0"
      },
      "cell_type": "code",
      "source": "target_name = 'Congestion_Type'",
      "execution_count": null,
      "outputs": []
    },
    {
      "metadata": {
        "trusted": true,
        "_uuid": "dddd30bc2aefc6cec48d5a2c3f83804b38eb0c70"
      },
      "cell_type": "code",
      "source": "### Check whether all cell towers are different\nassert(len(train_df['cell_name'].unique()) == len(train_df))",
      "execution_count": null,
      "outputs": []
    },
    {
      "metadata": {
        "trusted": true,
        "_uuid": "9e6b38619ab217fe0faf459b71586d53d80818f2"
      },
      "cell_type": "code",
      "source": "train_df.drop(columns = ['cell_name', 'par_year', 'par_month']).describe()",
      "execution_count": null,
      "outputs": []
    },
    {
      "metadata": {
        "trusted": true,
        "_uuid": "3d2d3b246dd4f4408d783881a4e9f5cb76ebdd65"
      },
      "cell_type": "code",
      "source": "print('Length of training data %d and testing data %d'%(train_df.shape[0], test_df.shape[0]))",
      "execution_count": null,
      "outputs": []
    },
    {
      "metadata": {
        "trusted": true,
        "_uuid": "8df3ce07fa187286329a30719193371cc99f10ba"
      },
      "cell_type": "code",
      "source": "print('Train - {},  Test - {}'.format(*(train_df.isnull().values.any(), test_df.isnull().values.any())))",
      "execution_count": null,
      "outputs": []
    },
    {
      "metadata": {
        "trusted": true,
        "_uuid": "be39a474ec71e8a662ebd8de63d87203de1c9b4b"
      },
      "cell_type": "code",
      "source": "fig = plt.figure(figsize = (6, 6))\ntotal = train_df.shape[0]\nax = sns.countplot(x = target_name, data = train_df, order = train_df[target_name].value_counts().sort_values(ascending = False).index)\nax.set_xticklabels(train_df[target_name].value_counts().sort_values(ascending = False).index, rotation = 90)\nfor p in ax.patches:\n    ax.annotate('{:.2f}%'.format(p.get_height() * 100 / total), (p.get_x() + 0.1, p.get_height() + 15))",
      "execution_count": null,
      "outputs": []
    },
    {
      "metadata": {
        "trusted": true,
        "_uuid": "be39a474ec71e8a662ebd8de63d87203de1c9b4b"
      },
      "cell_type": "code",
      "source": "fig = plt.figure(figsize = (6, 6))\ntotal = tmp1.shape[0]\nax = sns.countplot(x = target_name, data = tmp1, order = tmp1[target_name].value_counts().sort_values(ascending = False).index)\nax.set_xticklabels(tmp1[target_name].value_counts().sort_values(ascending = False).index, rotation = 90)\nfor p in ax.patches:\n    ax.annotate('{:.2f}%'.format(p.get_height() * 100 / total), (p.get_x() + 0.1, p.get_height() + 15))",
      "execution_count": null,
      "outputs": []
    },
    {
      "metadata": {
        "trusted": true,
        "_uuid": "4d56c21a763f9fba51fa92dac4b8502ba1c1a54d"
      },
      "cell_type": "code",
      "source": "plt.figure(figsize = (5, 5))\ncnt = train_df[target_name].value_counts()\nsizes = cnt.values\nplt.pie(sizes, labels = cnt.index, autopct = '%1.1f%%', shadow = True);",
      "execution_count": null,
      "outputs": []
    },
    {
      "metadata": {
        "trusted": true,
        "_uuid": "92dca7c9bd38b91c8685e8af9e00a3ccd8eb636b"
      },
      "cell_type": "code",
      "source": "col = '4G_rat'\nfig = plt.figure(figsize = (6, 6))\ntotal = train_df.shape[0]\nax = sns.countplot(x = col, data = train_df, order = train_df[col].value_counts().sort_values(ascending = False).index)\n# ax.set_xticklabels(train_df[col].value_counts().sort_values(ascending = False).index, rotation = 90)\nfor p in ax.patches:\n    ax.annotate('{:.2f}%'.format(p.get_height() * 100 / total), (p.get_x() + 0.3, p.get_height() + 15))",
      "execution_count": null,
      "outputs": []
    },
    {
      "metadata": {
        "trusted": true,
        "_uuid": "58b79d34f1547f6be1105b39f63953a9c955e739"
      },
      "cell_type": "code",
      "source": "col = '4G_rat'\nfig = plt.figure(figsize = (6, 6))\ntotal = test_df.shape[0]\nax = sns.countplot(x = col, data = test_df, order = test_df[col].value_counts().sort_values(ascending = False).index)\n# ax.set_xticklabels(train_df[col].value_counts().sort_values(ascending = False).index, rotation = 90)\nfor p in ax.patches:\n    ax.annotate('{:.2f}%'.format(p.get_height() * 100 / total), (p.get_x() + 0.3, p.get_height() + 15))",
      "execution_count": null,
      "outputs": []
    },
    {
      "metadata": {
        "trusted": true,
        "_uuid": "92dca7c9bd38b91c8685e8af9e00a3ccd8eb636b"
      },
      "cell_type": "code",
      "source": "col = 'ran_vendor'\nfig = plt.figure(figsize = (6, 6))\ntotal = train_df.shape[0]\nax = sns.countplot(x = col, data = train_df, order = train_df[col].value_counts().sort_values(ascending = False).index)\n# ax.set_xticklabels(train_df[col].value_counts().sort_values(ascending = False).index, rotation = 90)\nfor p in ax.patches:\n    ax.annotate('{:.2f}%'.format(p.get_height() * 100 / total), (p.get_x() + 0.3, p.get_height() + 15))",
      "execution_count": null,
      "outputs": []
    },
    {
      "metadata": {
        "trusted": true,
        "_uuid": "58b79d34f1547f6be1105b39f63953a9c955e739"
      },
      "cell_type": "code",
      "source": "col = 'ran_vendor'\nfig = plt.figure(figsize = (6, 6))\ntotal = test_df.shape[0]\nax = sns.countplot(x = col, data = test_df, order = test_df[col].value_counts().sort_values(ascending = False).index)\n# ax.set_xticklabels(train_df[col].value_counts().sort_values(ascending = False).index, rotation = 90)\nfor p in ax.patches:\n    ax.annotate('{:.2f}%'.format(p.get_height() * 100 / total), (p.get_x() + 0.3, p.get_height() + 15))",
      "execution_count": null,
      "outputs": []
    },
    {
      "metadata": {
        "trusted": true,
        "_uuid": "b620d713011b00f13d77ddcd76b913c4409b49fb"
      },
      "cell_type": "code",
      "source": "### Relation between 4G_rat and Target var\nax = sns.countplot(x = target_name, hue = '4G_rat', data = train_df, order = train_df[target_name].value_counts().sort_values(ascending = False).index)\nax.set_xticklabels(train_df[target_name].value_counts().sort_values(ascending = False).index, rotation = 90);",
      "execution_count": null,
      "outputs": []
    },
    {
      "metadata": {
        "trusted": true,
        "_uuid": "39a38fae520f71013b06a033d0cf4217cfda0f0a"
      },
      "cell_type": "code",
      "source": "ax = sns.countplot(x = target_name, hue = 'ran_vendor', data = train_df, order = train_df[target_name].value_counts().sort_values(ascending = False).index)\nax.set_xticklabels(train_df[target_name].value_counts().sort_values(ascending = False).index, rotation = 90);",
      "execution_count": null,
      "outputs": []
    },
    {
      "metadata": {
        "trusted": true,
        "_uuid": "2e5e010020819a0a7f8aa3b2e526a493b38a4646"
      },
      "cell_type": "code",
      "source": "ax = sns.countplot(x = '4G_rat', hue = 'ran_vendor', data = train_df)",
      "execution_count": null,
      "outputs": []
    },
    {
      "metadata": {
        "trusted": true,
        "_uuid": "c8ed29248028336ad27b753d7f20475625567b7f"
      },
      "cell_type": "code",
      "source": "ax = sns.countplot(x = '4G_rat', hue = 'ran_vendor', data = test_df)",
      "execution_count": null,
      "outputs": []
    },
    {
      "metadata": {
        "_uuid": "d8fe1f8d62243a8d824da42002f2df61458be75f"
      },
      "cell_type": "markdown",
      "source": "### Tilt vs Sub Cnt"
    },
    {
      "metadata": {
        "trusted": true,
        "_uuid": "f4e5310bff2461e00c7bcd309558e2f76549474f"
      },
      "cell_type": "code",
      "source": "sns.boxplot(x = 'tilt', y = 'subscriber_count', hue = 'ran_vendor', data = train_df);",
      "execution_count": null,
      "outputs": []
    },
    {
      "metadata": {
        "trusted": true,
        "_uuid": "e3934f2809d96df871c5ee56e3ecdba81900f6dd"
      },
      "cell_type": "code",
      "source": "plt.figure(figsize = (10, 5))\nsns.boxplot(x = 'tilt', y = 'subscriber_count', hue = 'ran_vendor', data = train_df.sort_values('subscriber_count').iloc[:10000]);",
      "execution_count": null,
      "outputs": []
    },
    {
      "metadata": {
        "trusted": true,
        "_uuid": "55356a3550ecf56d727031b319b72a9c6efd2de5"
      },
      "cell_type": "code",
      "source": "plt.figure(figsize = (20, 5))\nsns.boxplot(x = 'tilt', y = 'subscriber_count', hue = 'cell_range', data = train_df.sort_values('subscriber_count').iloc[:10000]);",
      "execution_count": null,
      "outputs": []
    },
    {
      "metadata": {
        "_uuid": "f47e0f6e46189f80a5988368d074c5820092e788"
      },
      "cell_type": "markdown",
      "source": "### Cell Range vs Sub Cnt"
    },
    {
      "metadata": {
        "trusted": true,
        "_uuid": "87d4a29352531e185d6e9cae9278c788c19e3ec6"
      },
      "cell_type": "code",
      "source": "plt.figure(figsize = (15, 10))\nsns.boxplot(x = 'cell_range', y = 'subscriber_count', hue = 'tilt', data = train_df)",
      "execution_count": null,
      "outputs": []
    },
    {
      "metadata": {
        "trusted": true,
        "_uuid": "52d2d93632bc2ade069218c848bfe082173fc0f6"
      },
      "cell_type": "code",
      "source": "plt.figure(figsize = (10, 5))\nsns.boxplot(x = 'cell_range', y = 'subscriber_count', hue = 'tilt', data = train_df.sort_values('subscriber_count').loc[:10000])",
      "execution_count": null,
      "outputs": []
    },
    {
      "metadata": {
        "trusted": true,
        "_uuid": "18ccc93da7e43b9bd9966b450b78318f4adac4c4"
      },
      "cell_type": "code",
      "source": "sns.distplot(train_df['subscriber_count'].values, fit = norm)\n\n# Get the fitted parameters used by the function\n(mu, sigma) = norm.fit(train_df['subscriber_count'])\nprint( '\\n mu = {:.2f} and sigma = {:.2f}\\n'.format(mu, sigma))\n\n#Now plot the distribution\nplt.legend(['Normal dist. ($\\mu=$ {:.2f} and $\\sigma=$ {:.2f} )'.format(mu, sigma)], loc = 'best')\nplt.ylabel('Frequency')\nplt.title('Sub Cnt');",
      "execution_count": null,
      "outputs": []
    },
    {
      "metadata": {
        "trusted": true,
        "_uuid": "0977a38da999f99ac1be6e31e088a75200d53bba"
      },
      "cell_type": "code",
      "source": "sns.distplot(test_df['subscriber_count'].values, fit = norm)\n\n# Get the fitted parameters used by the function\n(mu, sigma) = norm.fit(test_df['subscriber_count'])\nprint( '\\n mu = {:.2f} and sigma = {:.2f}\\n'.format(mu, sigma))\n\n#Now plot the distribution\nplt.legend(['Normal dist. ($\\mu=$ {:.2f} and $\\sigma=$ {:.2f} )'.format(mu, sigma)], loc = 'best')\nplt.ylabel('Frequency')\nplt.title('Sub Cnt');",
      "execution_count": null,
      "outputs": []
    },
    {
      "metadata": {
        "trusted": true,
        "_uuid": "a7e1f4b61abcd29a839f2f08abf11ee726853a31"
      },
      "cell_type": "code",
      "source": "ax = sns.boxplot(x = target_name, y = 'subscriber_count', data = train_df, order = train_df[target_name].value_counts().sort_values(ascending = False).index)\nax.set_xticklabels(train_df[target_name].value_counts().sort_values(ascending = False).index, rotation = 90);",
      "execution_count": null,
      "outputs": []
    },
    {
      "metadata": {
        "trusted": true,
        "_uuid": "46e7ce2fc2deaf4761d1e134966534eb1077ce9f"
      },
      "cell_type": "code",
      "source": "train_df[train_df.loc[:, target_name] == 'NC']['subscriber_count'].max()",
      "execution_count": null,
      "outputs": []
    },
    {
      "metadata": {
        "trusted": true,
        "_uuid": "5a7c04bf039546dc6f12222abbd9333f49772ea0"
      },
      "cell_type": "code",
      "source": "train_df[train_df.loc[:, target_name] == '4G_BACKHAUL_CONGESTION']['subscriber_count'].max()",
      "execution_count": null,
      "outputs": []
    },
    {
      "metadata": {
        "trusted": true,
        "_uuid": "fe7aa15b5ebfad62d4128551c72ba8fe7618d269"
      },
      "cell_type": "code",
      "source": "fig = plt.figure(figsize = (10, 13))\nax = sns.boxplot(x = target_name, y = 'subscriber_count', hue = '4G_rat', data = train_df, order = train_df[target_name].value_counts().sort_values(ascending = False).index)\nax.set_xticklabels(train_df[target_name].value_counts().sort_values(ascending = False).index, rotation = 90);",
      "execution_count": null,
      "outputs": []
    },
    {
      "metadata": {
        "trusted": true,
        "_uuid": "01b3277f50bc115a5cae1abcf22dfdbd9733d391"
      },
      "cell_type": "code",
      "source": "fig = plt.figure(figsize = (10, 10))\nax = sns.boxplot(x = target_name, y = 'subscriber_count', hue = 'ran_vendor', data = train_df, order = train_df[target_name].value_counts().sort_values(ascending = False).index)\nax.set_xticklabels(train_df[target_name].value_counts().sort_values(ascending = False).index, rotation = 90);",
      "execution_count": null,
      "outputs": []
    },
    {
      "metadata": {
        "trusted": true,
        "_uuid": "72f6e32114ade3959de13125417983b6bcf2c029"
      },
      "cell_type": "code",
      "source": "fig = plt.figure(figsize = (10, 5))\nnc_df = train_df[train_df.loc[:, target_name] == 'NC']\nax = sns.boxplot(x = target_name, y = 'subscriber_count', hue = 'ran_vendor', data = nc_df)\n# ax.set_xticklabels(train_df[target_name].value_counts().sort_values(ascending = False).index, rotation = 90);",
      "execution_count": null,
      "outputs": []
    },
    {
      "metadata": {
        "trusted": true,
        "_uuid": "79a7afd7f3c157ee7efdd18de8c3b6dcc1bbbe6c"
      },
      "cell_type": "code",
      "source": "fig = plt.figure(figsize = (10, 10))\nax = sns.boxplot(x = target_name, y = 'subscriber_count', hue = 'tilt', data = train_df, order = train_df[target_name].value_counts().sort_values(ascending = False).index)\nax.set_xticklabels(train_df[target_name].value_counts().sort_values(ascending = False).index, rotation = 90);",
      "execution_count": null,
      "outputs": []
    },
    {
      "metadata": {
        "trusted": true,
        "_uuid": "cf4280e8af79a0d97adca4e17827541291771674"
      },
      "cell_type": "code",
      "source": "fig = plt.figure(figsize = (10, 10))\nax = sns.boxplot(x = target_name, y = 'subscriber_count', hue = 'cell_range', data = train_df, order = train_df[target_name].value_counts().sort_values(ascending = False).index)\nax.set_xticklabels(train_df[target_name].value_counts().sort_values(ascending = False).index, rotation = 90);",
      "execution_count": null,
      "outputs": []
    },
    {
      "metadata": {
        "_uuid": "a554deb8265cc0ac66000fe3119cc2ecfc11359c"
      },
      "cell_type": "markdown",
      "source": "### Can do like this, if sub_cnt >= 4000, then always congession <br> like this can do for upper limit i.e. 4G_ran_congession if sub_cnt >= 11,000"
    },
    {
      "metadata": {
        "_uuid": "bac2601336b5e1017d9a774ff230e56fe01daa31"
      },
      "cell_type": "markdown",
      "source": "## NOTE ::\n- Training => 78650,  Testing => 26305\n- No null objects\n- Categorical cols => 4G_rat(2), ran_vendor(3), cell_range(6), tilt(4), Congestion_Type(4)[target] \n- Traget class if balanced\n- Analyse sub_cnt, all_browsing_bytes\n- 4G_rat col alone is useless\n- Above 2185 sub_cnt, always congession\n\n- vendors support nearly equal no of 3G and 4G towers\n\n<hr>\n- Equal no of 3G/4G towers are supported by each ran_vendor\n- As tilt increases, sub_cnt tends to increase. (Tilt vs Sub Cnt depends on no of other parameters so just a hunch)\n- 4G_rat not related to sub_cnt\n- ran_vendor not related to sub_cnt\n\n## DOUBT ::\n- How can 4G_RAN_CONGESTION, 4G_BACKHAUL_CONGESTION occur in tower with no 4G support???\n- As different cell towers note values at different time period, so there exists an discrepancy.\n\n## TASK ::\n- Divide diff bytes into region and see the plots"
    },
    {
      "metadata": {
        "trusted": true,
        "_uuid": "af6fed5a5f953903af6fa43b95be57f711a5d7b6"
      },
      "cell_type": "code",
      "source": "byte_cols = train_df.columns[8:34]",
      "execution_count": null,
      "outputs": []
    },
    {
      "metadata": {
        "trusted": true,
        "_uuid": "2fa8367eb70ad0402b4ff02075ad77d7219fa132"
      },
      "cell_type": "code",
      "source": "total_bytes = train_df.loc[:, byte_cols].apply(sum, axis = 1)",
      "execution_count": null,
      "outputs": []
    },
    {
      "metadata": {
        "trusted": true,
        "_uuid": "f97a7d5d299d56ff3f98685594d7722ac419ad22"
      },
      "cell_type": "code",
      "source": "tmp = train_df.copy(deep = True)",
      "execution_count": null,
      "outputs": []
    },
    {
      "metadata": {
        "trusted": true,
        "_uuid": "02cd4ef8ec5c7dabe2a7ddc23ebae5701fbeab83"
      },
      "cell_type": "code",
      "source": "tmp['total_bytes'] = total_bytes",
      "execution_count": null,
      "outputs": []
    },
    {
      "metadata": {
        "trusted": true,
        "_uuid": "9e10431c5bd2e433890f6521fb38e447900e7881"
      },
      "cell_type": "code",
      "source": "sns.distplot(tmp['total_bytes'].values, fit = norm)\n\n# Get the fitted parameters used by the function\n(mu, sigma) = norm.fit(tmp['total_bytes'].values)\nprint( '\\n mu = {:.2f} and sigma = {:.2f}\\n'.format(mu, sigma))\n\n#Now plot the distribution\nplt.legend(['Normal dist. ($\\mu=$ {:.2f} and $\\sigma=$ {:.2f} )'.format(mu, sigma)], loc = 'best')\nplt.ylabel('Frequency')\nplt.title('Sub Cnt');",
      "execution_count": null,
      "outputs": []
    },
    {
      "metadata": {
        "trusted": true,
        "_uuid": "e47fbbcb18093f5cd3785626a31d303b8f884d4d"
      },
      "cell_type": "code",
      "source": "print(\"Skewness: %f\" % tmp['total_bytes'].skew())\nprint(\"Kurtosis: %f\" % tmp['total_bytes'].kurt())",
      "execution_count": null,
      "outputs": []
    },
    {
      "metadata": {
        "trusted": true,
        "_uuid": "8787e5bad0342e16dd3e31cf33a4adad6c4a6dfb"
      },
      "cell_type": "code",
      "source": "print(\"Skewness: %f\" % tmp['subscriber_count'].skew())\nprint(\"Kurtosis: %f\" % tmp['subscriber_count'].kurt())",
      "execution_count": null,
      "outputs": []
    },
    {
      "metadata": {
        "trusted": true,
        "_uuid": "93da2fbdf44986aebc09c991221458f0bea9915b"
      },
      "cell_type": "code",
      "source": "y = 'total_bytes'",
      "execution_count": null,
      "outputs": []
    },
    {
      "metadata": {
        "trusted": true,
        "_uuid": "ef34ab58885e08cf28a07e99fe40696fcb1eaf0e"
      },
      "cell_type": "code",
      "source": "ax = sns.boxplot(x = target_name, y = y, data = tmp, order = tmp[target_name].value_counts().sort_values(ascending = False).index)\nax.set_xticklabels(tmp[target_name].value_counts().sort_values(ascending = False).index, rotation = 90);",
      "execution_count": null,
      "outputs": []
    },
    {
      "metadata": {
        "trusted": true,
        "_uuid": "d71bb61e5c131d387ec625b1d1893bd611acd9bc"
      },
      "cell_type": "code",
      "source": "tmp[tmp.loc[:, target_name] == 'NC'][y].max()",
      "execution_count": null,
      "outputs": []
    },
    {
      "metadata": {
        "trusted": true,
        "_uuid": "9fe7b432fbf512adbf11e748f658894f89c94c5e"
      },
      "cell_type": "code",
      "source": "tmp[tmp.loc[:, target_name] == '4G_BACKHAUL_CONGESTION'][y].max()",
      "execution_count": null,
      "outputs": []
    },
    {
      "metadata": {
        "trusted": true,
        "_uuid": "ff5d381b9fa00cdf371177202c9331682e7f809a"
      },
      "cell_type": "code",
      "source": "fig = plt.figure(figsize = (10, 10))\nax = sns.boxplot(x = target_name, y = y, hue = '4G_rat', data = tmp, order = tmp[target_name].value_counts().sort_values(ascending = False).index)\nax.set_xticklabels(tmp[target_name].value_counts().sort_values(ascending = False).index, rotation = 90);",
      "execution_count": null,
      "outputs": []
    },
    {
      "metadata": {
        "trusted": true,
        "_uuid": "a225a84ff2c7117f38ab58911ec519945abe47a6"
      },
      "cell_type": "code",
      "source": "fig = plt.figure(figsize = (10, 10))\nax = sns.boxplot(x = target_name, y = y, hue = 'ran_vendor', data = tmp, order = tmp[target_name].value_counts().sort_values(ascending = False).index)\nax.set_xticklabels(tmp[target_name].value_counts().sort_values(ascending = False).index, rotation = 90);",
      "execution_count": null,
      "outputs": []
    },
    {
      "metadata": {
        "trusted": true,
        "_uuid": "fac5e26e82bd95690803c02bbdcbd6757f95f463"
      },
      "cell_type": "code",
      "source": "fig = plt.figure(figsize = (10, 5))\nnc_df = tmp[tmp.loc[:, target_name] == 'NC']\nax = sns.boxplot(x = target_name, y = y, hue = 'ran_vendor', data = nc_df)\n# ax.set_xticklabels(train_df[target_name].value_counts().sort_values(ascending = False).index, rotation = 90);",
      "execution_count": null,
      "outputs": []
    },
    {
      "metadata": {
        "trusted": true,
        "_uuid": "8a09d0a6cbdafa9759512354a78c0cc0c6cb7dd9"
      },
      "cell_type": "code",
      "source": "fig = plt.figure(figsize = (10, 10))\nax = sns.boxplot(x = target_name, y = y, hue = 'tilt', data = tmp, order = tmp[target_name].value_counts().sort_values(ascending = False).index)\nax.set_xticklabels(tmp[target_name].value_counts().sort_values(ascending = False).index, rotation = 90);",
      "execution_count": null,
      "outputs": []
    },
    {
      "metadata": {
        "trusted": true,
        "_uuid": "fbe7273fda28fd6cde3b2b8aca127d5fa98fcc82"
      },
      "cell_type": "code",
      "source": "fig = plt.figure(figsize = (10, 10))\nax = sns.boxplot(x = target_name, y = y, hue = 'cell_range', data = tmp, order = tmp[target_name].value_counts().sort_values(ascending = False).index)\nax.set_xticklabels(tmp[target_name].value_counts().sort_values(ascending = False).index, rotation = 90);",
      "execution_count": null,
      "outputs": []
    },
    {
      "metadata": {
        "trusted": true,
        "_uuid": "1e871f314a8781b90b13ff217b0dcf61634a7a73"
      },
      "cell_type": "code",
      "source": "sns.lmplot(x = 'subscriber_count', y = 'total_bytes', data = tmp)",
      "execution_count": null,
      "outputs": []
    },
    {
      "metadata": {
        "_uuid": "0e4216a68d49eeea59946fff4ef5ee8562c2c8ba"
      },
      "cell_type": "markdown",
      "source": "## Clustering on the basis of labels"
    },
    {
      "metadata": {
        "_uuid": "136b71cb058b48329f30c4d490e466a34128f068"
      },
      "cell_type": "markdown",
      "source": "### Label encoding tmp_df"
    },
    {
      "metadata": {
        "trusted": true,
        "_uuid": "4de33e687a6f62a5951a136da56229128f664e8b"
      },
      "cell_type": "code",
      "source": "from sklearn.preprocessing import LabelEncoder",
      "execution_count": null,
      "outputs": []
    },
    {
      "metadata": {
        "trusted": true,
        "_uuid": "4f06a660c72e42673d11c885029adfac3fb30f44"
      },
      "cell_type": "code",
      "source": "def label_encode(df, col):\n    lb = LabelEncoder()\n    df[col] = lb.fit_transform(df[col])\n    return lb",
      "execution_count": null,
      "outputs": []
    },
    {
      "metadata": {
        "trusted": true,
        "_uuid": "649c79e9c84e3f6cf7adf5684e2980c251a9feb5"
      },
      "cell_type": "code",
      "source": "label_encode(tmp, 'ran_vendor');",
      "execution_count": null,
      "outputs": []
    },
    {
      "metadata": {
        "trusted": true,
        "_uuid": "156eefc72c2bc473d7babd59192c391f9a2d08c2"
      },
      "cell_type": "code",
      "source": "lb = label_encode(tmp, 'Congestion_Type')",
      "execution_count": null,
      "outputs": []
    },
    {
      "metadata": {
        "trusted": true,
        "_uuid": "5d5d6bd121217f74591710751927a2061847863e"
      },
      "cell_type": "code",
      "source": "tmp.drop(columns = ['cell_name', 'par_year', 'par_month', target_name], inplace = True)",
      "execution_count": null,
      "outputs": []
    },
    {
      "metadata": {
        "trusted": true,
        "_uuid": "1c326067c924d576680b3deaad9776581c33d1f1"
      },
      "cell_type": "code",
      "source": "from sklearn.manifold import TSNE",
      "execution_count": null,
      "outputs": []
    },
    {
      "metadata": {
        "trusted": true,
        "_uuid": "fdc6f32b093051bbf90b3d11d3f2f38bea79e658"
      },
      "cell_type": "code",
      "source": "tsne = TSNE(\n    n_components = 2,\n    init = 'random',      \n    random_state = 101,\n    method = 'barnes_hut',\n    n_iter = 300,\n    verbose = 2,\n    angle = 0.5\n).fit_transform(tmp[:10000].values)",
      "execution_count": null,
      "outputs": []
    },
    {
      "metadata": {
        "trusted": true,
        "_uuid": "b30fb26e9c8a94b02b3f17a9854ccd6be6d74acc"
      },
      "cell_type": "code",
      "source": "trace = go.Scatter3d(\n    x = tsne[:, 0],\n    y = tsne[:, 1],\n    z = lb.transform(train_df['Congestion_Type'].values),\n    mode = 'markers',\n    marker = dict(\n        size = 12,\n        color = lb.transform(train_df['Congestion_Type'].values),\n        colorscale = 'Portland',\n        colorbar = dict(title = 'Congestion'),\n        line = dict(color='rgb(255, 255, 255)'),\n        opacity = 0.5\n    )\n)\n\nlayout = go.Layout(\n    scene = dict(\n        camera = dict(\n            eye = dict(\n            x = 0.5,\n            y = 0.5,\n            z = 0.5\n            )\n        )\n    ),\n    margin = dict(\n        l = 0,\n        r = 0,\n        b = 0,\n        t = 0\n    )\n)\nfig = go.Figure(data = [trace], layout = layout)\niplot(fig, filename = '3d-scatter')",
      "execution_count": null,
      "outputs": []
    },
    {
      "metadata": {
        "trusted": true,
        "_uuid": "3cea7bd2828e1b12fa977c1c6f182166225650ca"
      },
      "cell_type": "code",
      "source": "plot_df = pd.DataFrame(dict(x=tsne[:,0], y=tsne[:,1], color=lb.transform(train_df.loc[:9999, target_name])))\nsns.lmplot('x', 'y', data=plot_df, hue='color', fit_reg=False, scatter_kws = {'alpha' : 0.3})\nplt.show()",
      "execution_count": null,
      "outputs": []
    },
    {
      "metadata": {
        "trusted": true,
        "_uuid": "fdc6f32b093051bbf90b3d11d3f2f38bea79e658"
      },
      "cell_type": "code",
      "source": "tsne = TSNE(\n    n_components = 3,\n    init = 'random', # pca\n    random_state = 101,\n    method = 'barnes_hut',\n    n_iter = 300,\n    verbose = 2,\n    angle = 0.5\n).fit_transform(tmp[:10000].values)",
      "execution_count": null,
      "outputs": []
    },
    {
      "metadata": {
        "trusted": true,
        "_uuid": "b30fb26e9c8a94b02b3f17a9854ccd6be6d74acc"
      },
      "cell_type": "code",
      "source": "trace = go.Scatter3d(\n    x = tsne[:, 0],\n    y = tsne[:, 1],\n    z = tsne[:, 2],\n    mode = 'markers',\n    marker = dict(\n        size = 12,\n        color = lb.transform(train_df['Congestion_Type'].values),\n        colorscale = 'Portland',\n        colorbar = dict(title = 'Congestion'),\n        line = dict(color='rgb(255, 255, 255)'),\n        opacity = 0.5\n    )\n)\n\nlayout = go.Layout(\n    scene = dict(\n        camera = dict(\n            eye = dict(\n            x = 0.5,\n            y = 0.5,\n            z = 0.5\n            )\n        )\n    ),\n    margin = dict(\n        l = 0,\n        r = 0,\n        b = 0,\n        t = 0\n    )\n)\nfig = go.Figure(data = [trace], layout = layout)\niplot(fig, filename = '3d-scatter')",
      "execution_count": null,
      "outputs": []
    },
    {
      "metadata": {
        "trusted": true,
        "_uuid": "3cea7bd2828e1b12fa977c1c6f182166225650ca"
      },
      "cell_type": "code",
      "source": "plot_df = pd.DataFrame(dict(x=tsne[:,0], y=tsne[:,1], color=lb.transform(train_df.loc[:9999, target_name])))\nsns.lmplot('x', 'y', data=plot_df, hue='color', fit_reg=False, scatter_kws = {'alpha' : 0.3})\nplt.show()",
      "execution_count": null,
      "outputs": []
    },
    {
      "metadata": {
        "trusted": true,
        "_uuid": "2740fb6149711057648724bfa9e60dc204fa6a5d"
      },
      "cell_type": "code",
      "source": "import umap",
      "execution_count": null,
      "outputs": []
    },
    {
      "metadata": {
        "trusted": true,
        "_uuid": "c5c60baf65893e668aca49642b09028df617e97a"
      },
      "cell_type": "code",
      "source": "reduce = umap.UMAP(random_state = 223, n_components = 3)  #just for reproducibility\nembeddings = reduce.fit_transform(tmp.values)",
      "execution_count": null,
      "outputs": []
    },
    {
      "metadata": {
        "trusted": true,
        "_uuid": "10a78ef020b2af840146b8c42c4c5bcc187c600a"
      },
      "cell_type": "code",
      "source": "trace = go.Scatter3d(\n    x = embeddings[:, 0],\n    y = embeddings[:, 1],\n    z = embeddings[:, 2],\n    mode = 'markers',\n    marker = dict(\n        size = 12,\n        color = lb.transform(train_df['Congestion_Type'].values),\n        colorscale = 'Portland',\n        colorbar = dict(title = 'Congestion'),\n        line = dict(color='rgb(255, 255, 255)'),\n        opacity = 0.5\n    )\n)\n\nlayout = go.Layout(\n    scene = dict(\n        camera = dict(\n            eye = dict(\n            x = 0.5,\n            y = 0.5,\n            z = 0.5\n            )\n        )\n    ),\n    margin = dict(\n        l = 0,\n        r = 0,\n        b = 0,\n        t = 0\n    )\n)\nfig = go.Figure(data = [trace], layout = layout)\niplot(fig, filename = '3d-scatter-umap')",
      "execution_count": null,
      "outputs": []
    },
    {
      "metadata": {
        "trusted": true,
        "_uuid": "df835faf8e5e051f180bc4ef44215d76f67e8aae"
      },
      "cell_type": "code",
      "source": "reduce = umap.UMAP(random_state = 446, n_components = 2)  #just for reproducibility\nembeddings = reduce.fit_transform(tmp.values)",
      "execution_count": null,
      "outputs": []
    },
    {
      "metadata": {
        "_uuid": "9034f71783391873f860cf1d6df3b97b51ba7ce9",
        "trusted": true
      },
      "cell_type": "code",
      "source": "plot_df = pd.DataFrame(embeddings, columns = ['x', 'y'])\nplot_df[target_name] = train_df.loc[:, target_name]",
      "execution_count": null,
      "outputs": []
    },
    {
      "metadata": {
        "_uuid": "0877f623abf46d90018cc5a524e57c0b71095832",
        "trusted": true
      },
      "cell_type": "code",
      "source": "# fig = plt.Figure(figsize = (15, 15))\nax = sns.pairplot(x_vars = ['x'], y_vars = ['y'], data = plot_df, hue = target_name, kind = 'scatter', size = 11, plot_kws = {'s' : 80, 'alpha' : 0.6})\nax.fig.suptitle('Embedding clustered with UMAP');",
      "execution_count": null,
      "outputs": []
    },
    {
      "metadata": {
        "trusted": true,
        "_uuid": "6b7148493d69a2339eea7146e0a667a863756f9e"
      },
      "cell_type": "code",
      "source": "trace = go.Scatter3d(\n    x = embeddings[:, 0],\n    y = embeddings[:, 1],\n    z = lb.transform(train_df['Congestion_Type'].values),\n    mode = 'markers',\n    marker = dict(\n        size = 12,\n        color = lb.transform(train_df['Congestion_Type'].values),\n        colorscale = 'Portland',\n        colorbar = dict(title = 'Congestion'),\n        line = dict(color='rgb(255, 255, 255)'),\n        opacity = 0.5\n    )\n)\n\nlayout = go.Layout(\n    scene = dict(\n        camera = dict(\n            eye = dict(\n            x = 0.5,\n            y = 0.5,\n            z = 0.5\n            )\n        )\n    ),\n    margin = dict(\n        l = 0,\n        r = 0,\n        b = 0,\n        t = 0\n    )\n)\nfig = go.Figure(data = [trace], layout = layout)\niplot(fig, filename = '3d-scatter-umap-with-label')",
      "execution_count": null,
      "outputs": []
    },
    {
      "metadata": {
        "_uuid": "b22646a88ba0d0149448f08de7b649d516996eb9"
      },
      "cell_type": "markdown",
      "source": "### Using HDBSCAN to get the no of clusters"
    },
    {
      "metadata": {
        "trusted": true,
        "_uuid": "7da2b2f075176541a0713910b34868e333a29d1f"
      },
      "cell_type": "code",
      "source": "!pip install hdbscan",
      "execution_count": null,
      "outputs": []
    },
    {
      "metadata": {
        "trusted": true,
        "_uuid": "e435ff964c3d7a543c0ce93aed741c19525d8b8f"
      },
      "cell_type": "code",
      "source": "reduce = umap.UMAP(random_state = 1333, n_components = 2)  #just for reproducibility\nembeddings = reduce.fit_transform(tmp.values)",
      "execution_count": null,
      "outputs": []
    },
    {
      "metadata": {
        "trusted": true,
        "_uuid": "3fe0354c7b9dc272e12f77e5288bda9ff7cc510d"
      },
      "cell_type": "code",
      "source": "import hdbscan",
      "execution_count": null,
      "outputs": []
    },
    {
      "metadata": {
        "trusted": true,
        "_uuid": "adea3e0a4cb3dd2b4bbf95cb20923480bdd5e92a"
      },
      "cell_type": "code",
      "source": "import time",
      "execution_count": null,
      "outputs": []
    },
    {
      "metadata": {
        "trusted": true,
        "_uuid": "1f53290fb174a86b2adf0c5af444b1bed41d215f"
      },
      "cell_type": "code",
      "source": "plot_kwds = {'alpha' : 0.4, 's' : 80, 'linewidths':0}",
      "execution_count": null,
      "outputs": []
    },
    {
      "metadata": {
        "trusted": true,
        "_uuid": "3b3be979a173e664437455ddfdde39776f00a8e8"
      },
      "cell_type": "code",
      "source": "def plot_clusters(data, algorithm, args, kwds):\n    start_time = time.time()\n    clusterer = algorithm(*args, **kwds).fit(data)\n    labels, strength = hdbscan.approximate_predict(clusterer, data)\n    end_time = time.time()\n    palette = sns.color_palette('deep', np.unique(labels).max() + 1)\n    colors = [sns.desaturate(palette[col], sat) for col, sat in zip(clusterer.labels_, clusterer.probabilities_)]\n#     colors = [palette[x] if x >= 0 else (0.0, 0.0, 0.0) for x in labels]\n    plt.scatter(data[:, 0], data[:, 1], c=colors, **plot_kwds)\n    frame = plt.gca()\n    frame.axes.get_xaxis().set_visible(False)\n    frame.axes.get_yaxis().set_visible(False)\n    plt.title('Clusters found by {}'.format(str(algorithm.__name__)), fontsize=24)\n    plt.text(-0.5, 0.7, 'Clustering took {:.2f} s'.format(end_time - start_time), fontsize=14)\n    return clusterer",
      "execution_count": null,
      "outputs": []
    },
    {
      "metadata": {
        "trusted": true,
        "_uuid": "26211744bcd7e4fad01641b83d56d204c60c5790"
      },
      "cell_type": "code",
      "source": "clusterer = plot_clusters(embeddings, hdbscan.HDBSCAN, (), {'prediction_data':True, 'min_cluster_size':15})",
      "execution_count": null,
      "outputs": []
    },
    {
      "metadata": {
        "trusted": true,
        "_uuid": "6718cc5d0c9809cf944b830ad3b5712202ceb7e0"
      },
      "cell_type": "code",
      "source": "np.unique(clusterer.labels_)",
      "execution_count": null,
      "outputs": []
    },
    {
      "metadata": {
        "trusted": true,
        "_uuid": "b63031a97421145ed18c018de46c4312d30748f6"
      },
      "cell_type": "code",
      "source": "clusterer = plot_clusters(tsne, hdbscan.HDBSCAN, (), {'prediction_data':True, 'min_cluster_size':15})",
      "execution_count": null,
      "outputs": []
    },
    {
      "metadata": {
        "trusted": true,
        "_uuid": "678effdc5e1b8b10b14040cb6ba2f7b704133b6d"
      },
      "cell_type": "code",
      "source": "np.unique(clusterer.labels_)",
      "execution_count": null,
      "outputs": []
    },
    {
      "metadata": {
        "_uuid": "d88c8fe58be55db9657a3db6e70345ba69015266"
      },
      "cell_type": "markdown",
      "source": "## Preprocess tmp copy and repeat the cluster formation steps"
    },
    {
      "metadata": {
        "trusted": true,
        "_uuid": "3eeb0e9cb4f3b74c4e9341c3d7ecb13d2be622af"
      },
      "cell_type": "code",
      "source": "tmp_copy = tmp.copy(deep = True)",
      "execution_count": null,
      "outputs": []
    },
    {
      "metadata": {
        "trusted": true,
        "_uuid": "239c204475139d78f2b699bf006eb90486838ee1"
      },
      "cell_type": "code",
      "source": "from sklearn.preprocessing import MinMaxScaler, StandardScaler, RobustScaler",
      "execution_count": null,
      "outputs": []
    },
    {
      "metadata": {
        "trusted": true,
        "_uuid": "6d0e150c7c3de67e0715ec84fdc2aa0a6c89721a"
      },
      "cell_type": "code",
      "source": "def normalize_col(normalize, df, col):\n    if normalize == 1:\n        scaler = MinMaxScaler(feature_range = (0, 1))\n        df[col] = scaler.fit_transform(np.expand_dims(df[col].values, axis = 1))\n    \n    elif normalize == 2:\n        scaler = StandardScaler()\n        df[col] = scaler.fit_transform(np.expand_dims(df[col].values, axis = 1))\n    \n    elif normalize == 3:\n        scaler = RobustScaler()\n        df[col] = scaler.fit_transform(np.expand_dims(df[col].values, axis = 1))",
      "execution_count": null,
      "outputs": []
    },
    {
      "metadata": {
        "trusted": true,
        "_uuid": "d9c27ee0fdbfeca8f9739bc89c1b705fad1827ab"
      },
      "cell_type": "code",
      "source": "cols2normalize = list(tmp_copy.columns[4:32]) + [tmp_copy.columns[-1]]",
      "execution_count": null,
      "outputs": []
    },
    {
      "metadata": {
        "trusted": true,
        "_uuid": "708adba9d2fbe60133a0ea52af57e3f0d685e39c"
      },
      "cell_type": "code",
      "source": "for col in cols2normalize:\n    normalize_col(3, tmp_copy, col)",
      "execution_count": null,
      "outputs": []
    },
    {
      "metadata": {
        "trusted": true,
        "_uuid": "5fda027eed92e336fe406bdafde11a31b0af8a12"
      },
      "cell_type": "code",
      "source": "tmp_copy.describe()",
      "execution_count": null,
      "outputs": []
    },
    {
      "metadata": {
        "trusted": true,
        "_uuid": "fdc6f32b093051bbf90b3d11d3f2f38bea79e658"
      },
      "cell_type": "code",
      "source": "tsne = TSNE(\n    n_components = 3,\n    init = 'random', # pca\n    random_state = 101,\n    method = 'barnes_hut',\n    n_iter = 300,\n    verbose = 2,\n    angle = 0.5\n).fit_transform(tmp_copy[:10000].values)",
      "execution_count": null,
      "outputs": []
    },
    {
      "metadata": {
        "trusted": true,
        "_uuid": "b30fb26e9c8a94b02b3f17a9854ccd6be6d74acc"
      },
      "cell_type": "code",
      "source": "trace = go.Scatter3d(\n    x = tsne[:, 0],\n    y = tsne[:, 1],\n    z = tsne[:, 2],\n    mode = 'markers',\n    marker = dict(\n        size = 12,\n        color = lb.transform(train_df['Congestion_Type'].values),\n        colorscale = 'Portland',\n        colorbar = dict(title = 'Congestion'),\n        line = dict(color='rgb(255, 255, 255)'),\n        opacity = 0.5\n    )\n)\n\nlayout = go.Layout(\n    scene = dict(\n        camera = dict(\n            eye = dict(\n            x = 0.5,\n            y = 0.5,\n            z = 0.5\n            )\n        )\n    ),\n    margin = dict(\n        l = 0,\n        r = 0,\n        b = 0,\n        t = 0\n    )\n)\nfig = go.Figure(data = [trace], layout = layout)\niplot(fig, filename = '3d-scatter')",
      "execution_count": null,
      "outputs": []
    },
    {
      "metadata": {
        "trusted": true,
        "_uuid": "3cea7bd2828e1b12fa977c1c6f182166225650ca"
      },
      "cell_type": "code",
      "source": "plot_df = pd.DataFrame(dict(x=tsne[:,0], y=tsne[:,1], color=lb.transform(train_df.loc[:9999, target_name])))\nsns.lmplot('x', 'y', data=plot_df, hue='color', fit_reg=False, scatter_kws = {'alpha' : 0.3})\nplt.show()",
      "execution_count": null,
      "outputs": []
    },
    {
      "metadata": {
        "trusted": true,
        "_uuid": "fdc6f32b093051bbf90b3d11d3f2f38bea79e658"
      },
      "cell_type": "code",
      "source": "tsne = TSNE(\n    n_components = 2,\n    init = 'random',      \n    random_state = 101,\n    method = 'barnes_hut',\n    n_iter = 300,\n    verbose = 2,\n    angle = 0.5\n).fit_transform(tmp_copy[:10000].values)",
      "execution_count": null,
      "outputs": []
    },
    {
      "metadata": {
        "trusted": true,
        "_uuid": "b30fb26e9c8a94b02b3f17a9854ccd6be6d74acc"
      },
      "cell_type": "code",
      "source": "trace = go.Scatter3d(\n    x = tsne[:, 0],\n    y = tsne[:, 1],\n    z = lb.transform(train_df['Congestion_Type'].values),\n    mode = 'markers',\n    marker = dict(\n        size = 12,\n        color = lb.transform(train_df['Congestion_Type'].values),\n        colorscale = 'Portland',\n        colorbar = dict(title = 'Congestion'),\n        line = dict(color='rgb(255, 255, 255)'),\n        opacity = 0.5\n    )\n)\n\nlayout = go.Layout(\n    scene = dict(\n        camera = dict(\n            eye = dict(\n            x = 0.5,\n            y = 0.5,\n            z = 0.5\n            )\n        )\n    ),\n    margin = dict(\n        l = 0,\n        r = 0,\n        b = 0,\n        t = 0\n    )\n)\nfig = go.Figure(data = [trace], layout = layout)\niplot(fig, filename = '3d-scatter')",
      "execution_count": null,
      "outputs": []
    },
    {
      "metadata": {
        "trusted": true,
        "_uuid": "3cea7bd2828e1b12fa977c1c6f182166225650ca"
      },
      "cell_type": "code",
      "source": "plot_df = pd.DataFrame(dict(x=tsne[:,0], y=tsne[:,1], color=lb.transform(train_df.loc[:9999, target_name])))\nsns.lmplot('x', 'y', data=plot_df, hue='color', fit_reg=False, scatter_kws = {'alpha' : 0.3})\nplt.show()",
      "execution_count": null,
      "outputs": []
    },
    {
      "metadata": {
        "trusted": true,
        "_uuid": "2740fb6149711057648724bfa9e60dc204fa6a5d"
      },
      "cell_type": "code",
      "source": "import umap",
      "execution_count": null,
      "outputs": []
    },
    {
      "metadata": {
        "trusted": true,
        "_uuid": "c5c60baf65893e668aca49642b09028df617e97a"
      },
      "cell_type": "code",
      "source": "reduce = umap.UMAP(random_state = 223, n_components = 3)  #just for reproducibility\nembeddings = reduce.fit_transform(tmp_copy.values)",
      "execution_count": null,
      "outputs": []
    },
    {
      "metadata": {
        "trusted": true,
        "_uuid": "10a78ef020b2af840146b8c42c4c5bcc187c600a"
      },
      "cell_type": "code",
      "source": "trace = go.Scatter3d(\n    x = embeddings[:, 0],\n    y = embeddings[:, 1],\n    z = embeddings[:, 2],\n    mode = 'markers',\n    marker = dict(\n        size = 12,\n        color = lb.transform(train_df['Congestion_Type'].values),\n        colorscale = 'Portland',\n        colorbar = dict(title = 'Congestion'),\n        line = dict(color='rgb(255, 255, 255)'),\n        opacity = 0.5\n    )\n)\n\nlayout = go.Layout(\n    scene = dict(\n        camera = dict(\n            eye = dict(\n            x = 0.5,\n            y = 0.5,\n            z = 0.5\n            )\n        )\n    ),\n    margin = dict(\n        l = 0,\n        r = 0,\n        b = 0,\n        t = 0\n    )\n)\nfig = go.Figure(data = [trace], layout = layout)\niplot(fig, filename = '3d-scatter-umap')",
      "execution_count": null,
      "outputs": []
    },
    {
      "metadata": {
        "trusted": true,
        "_uuid": "df835faf8e5e051f180bc4ef44215d76f67e8aae"
      },
      "cell_type": "code",
      "source": "reduce = umap.UMAP(random_state = 446, n_components = 2)  #just for reproducibility\nembeddings = reduce.fit_transform(tmp_copy.values)",
      "execution_count": null,
      "outputs": []
    },
    {
      "metadata": {
        "_uuid": "9034f71783391873f860cf1d6df3b97b51ba7ce9",
        "trusted": true
      },
      "cell_type": "code",
      "source": "plot_df = pd.DataFrame(embeddings, columns = ['x', 'y'])\nplot_df[target_name] = train_df.loc[:, target_name]",
      "execution_count": null,
      "outputs": []
    },
    {
      "metadata": {
        "_uuid": "0877f623abf46d90018cc5a524e57c0b71095832",
        "trusted": true
      },
      "cell_type": "code",
      "source": "# fig = plt.Figure(figsize = (15, 15))\nax = sns.pairplot(x_vars = ['x'], y_vars = ['y'], data = plot_df, hue = target_name, kind = 'scatter', size = 11, plot_kws = {'s' : 80, 'alpha' : 0.6})\nax.fig.suptitle('Embedding clustered with UMAP');",
      "execution_count": null,
      "outputs": []
    },
    {
      "metadata": {
        "trusted": true,
        "_uuid": "6b7148493d69a2339eea7146e0a667a863756f9e"
      },
      "cell_type": "code",
      "source": "trace = go.Scatter3d(\n    x = embeddings[:, 0],\n    y = embeddings[:, 1],\n    z = lb.transform(train_df['Congestion_Type'].values),\n    mode = 'markers',\n    marker = dict(\n        size = 12,\n        color = lb.transform(train_df['Congestion_Type'].values),\n        colorscale = 'Portland',\n        colorbar = dict(title = 'Congestion'),\n        line = dict(color='rgb(255, 255, 255)'),\n        opacity = 0.5\n    )\n)\n\nlayout = go.Layout(\n    scene = dict(\n        camera = dict(\n            eye = dict(\n            x = 0.5,\n            y = 0.5,\n            z = 0.5\n            )\n        )\n    ),\n    margin = dict(\n        l = 0,\n        r = 0,\n        b = 0,\n        t = 0\n    )\n)\nfig = go.Figure(data = [trace], layout = layout)\niplot(fig, filename = '3d-scatter-umap-with-label')",
      "execution_count": null,
      "outputs": []
    },
    {
      "metadata": {
        "trusted": true,
        "_uuid": "c7d3466c37db2984b2d476a2731e6d52a5e6cca1"
      },
      "cell_type": "code",
      "source": "",
      "execution_count": null,
      "outputs": []
    },
    {
      "metadata": {
        "_uuid": "9754c85bd42c094ec4dfac338603c5de454d4eee"
      },
      "cell_type": "markdown",
      "source": "## Using Date data"
    },
    {
      "metadata": {
        "trusted": true,
        "_uuid": "d39b8a4c4234ea3c28e4c2fd8af4c65f92cfd300"
      },
      "cell_type": "code",
      "source": "df = train_df.copy(deep = True)",
      "execution_count": null,
      "outputs": []
    },
    {
      "metadata": {
        "trusted": true,
        "_uuid": "cc559e5a543804afd3c30d3b0baf202a3f2dc288"
      },
      "cell_type": "code",
      "source": "from datetime import datetime, date",
      "execution_count": null,
      "outputs": []
    },
    {
      "metadata": {
        "trusted": true,
        "_uuid": "5b92400c5172ffdd3bc792d575d90026fa0a9e6b"
      },
      "cell_type": "code",
      "source": "df.insert(7, 'day', np.nan)\ndf.head()",
      "execution_count": null,
      "outputs": []
    },
    {
      "metadata": {
        "_uuid": "1a32bebff05a2feda13992cd894c891534334bf3"
      },
      "cell_type": "markdown",
      "source": "## monday -> 0, sunday -> 6"
    },
    {
      "metadata": {
        "trusted": true,
        "_uuid": "4904bd4780cd53ec19eb84f8d322c23fa769e73a"
      },
      "cell_type": "code",
      "source": "df['day'] = df.apply(lambda x : datetime.strptime(\"%s|%s|%s\"%(x['par_day'], x['par_month'], x['par_year']), \"%d|%m|%Y\").date().weekday(), axis = 1)",
      "execution_count": null,
      "outputs": []
    },
    {
      "metadata": {
        "trusted": true,
        "_uuid": "6ea37e8299fae66a0b70a4f3b5cc8833735f6ff8"
      },
      "cell_type": "code",
      "source": "df.head()",
      "execution_count": null,
      "outputs": []
    },
    {
      "metadata": {
        "trusted": true,
        "_uuid": "af6fed5a5f953903af6fa43b95be57f711a5d7b6"
      },
      "cell_type": "code",
      "source": "byte_cols = df.columns[9:35]",
      "execution_count": null,
      "outputs": []
    },
    {
      "metadata": {
        "trusted": true,
        "_uuid": "2fa8367eb70ad0402b4ff02075ad77d7219fa132"
      },
      "cell_type": "code",
      "source": "df['total_bytes'] = df.loc[:, byte_cols].apply(sum, axis = 1)",
      "execution_count": null,
      "outputs": []
    },
    {
      "metadata": {
        "trusted": true,
        "_uuid": "00497c323344ddb1b6dcf3c4cb7e422be94d16fd"
      },
      "cell_type": "code",
      "source": "fig = plt.figure(figsize = (10, 10))\nax = sns.boxplot(x = 'day', y = 'total_bytes', hue = target_name, data = df)#, order = df[].value_counts().sort_values(ascending = False).index)\n# ax.set_xticklabels(df[target_name].value_counts().sort_values(ascending = False).index, rotation = 90);",
      "execution_count": null,
      "outputs": []
    },
    {
      "metadata": {
        "trusted": true,
        "_uuid": "856dbd6bc4fea8bb20f0c17dd0cce203bd132052"
      },
      "cell_type": "code",
      "source": "fig = plt.figure(figsize = (6, 6))\ntotal = df.shape[0]\nax = sns.barplot(x = 'day', y = 'total_bytes', data = df)\n# ax.set_xticklabels(train_df[col].value_counts().sort_values(ascending = False).index, rotation = 90)\nfor p in ax.patches:\n    ax.annotate('{:.2f}%'.format(p.get_height() * 100 / total), (p.get_x() + 0.1, p.get_height() + 15))",
      "execution_count": null,
      "outputs": []
    },
    {
      "metadata": {
        "trusted": true,
        "_uuid": "31e7e49d71b8a8209a4ac619c4e4b1218a50d9ad"
      },
      "cell_type": "markdown",
      "source": "## Removing date info and again forming cluseters"
    },
    {
      "metadata": {
        "trusted": true,
        "_uuid": "4b6796e1de63f87255621f1c24ed63bf08188477"
      },
      "cell_type": "code",
      "source": "tmp_drop_date = tmp.copy(deep = True)",
      "execution_count": null,
      "outputs": []
    },
    {
      "metadata": {
        "trusted": true,
        "_uuid": "dd2d7cd7d45fde27c5ac0b7f743df5275101c4be"
      },
      "cell_type": "code",
      "source": "tmp_drop_date.drop(columns = ['par_day', 'par_hour', 'par_min'], inplace = True)",
      "execution_count": null,
      "outputs": []
    },
    {
      "metadata": {
        "trusted": true,
        "_uuid": "fdc6f32b093051bbf90b3d11d3f2f38bea79e658"
      },
      "cell_type": "code",
      "source": "tsne = TSNE(\n    n_components = 2,\n    init = 'random',      \n    random_state = 101,\n    method = 'barnes_hut',\n    n_iter = 300,\n    verbose = 2,\n    angle = 0.5\n).fit_transform(tmp_drop_date[:10000].values)",
      "execution_count": null,
      "outputs": []
    },
    {
      "metadata": {
        "trusted": true,
        "_uuid": "b30fb26e9c8a94b02b3f17a9854ccd6be6d74acc"
      },
      "cell_type": "code",
      "source": "trace = go.Scatter3d(\n    x = tsne[:, 0],\n    y = tsne[:, 1],\n    z = lb.transform(train_df['Congestion_Type'].values),\n    mode = 'markers',\n    marker = dict(\n        size = 12,\n        color = lb.transform(train_df['Congestion_Type'].values),\n        colorscale = 'Portland',\n        colorbar = dict(title = 'Congestion'),\n        line = dict(color='rgb(255, 255, 255)'),\n        opacity = 0.5\n    )\n)\n\nlayout = go.Layout(\n    scene = dict(\n        camera = dict(\n            eye = dict(\n            x = 0.5,\n            y = 0.5,\n            z = 0.5\n            )\n        )\n    ),\n    margin = dict(\n        l = 0,\n        r = 0,\n        b = 0,\n        t = 0\n    )\n)\nfig = go.Figure(data = [trace], layout = layout)\niplot(fig, filename = '3d-scatter')",
      "execution_count": null,
      "outputs": []
    },
    {
      "metadata": {
        "trusted": true,
        "_uuid": "3cea7bd2828e1b12fa977c1c6f182166225650ca"
      },
      "cell_type": "code",
      "source": "plot_df = pd.DataFrame(dict(x=tsne[:,0], y=tsne[:,1], color=lb.transform(train_df.loc[:9999, target_name])))\nsns.lmplot('x', 'y', data=plot_df, hue='color', fit_reg=False, scatter_kws = {'alpha' : 0.3})\nplt.show()",
      "execution_count": null,
      "outputs": []
    },
    {
      "metadata": {
        "trusted": true,
        "_uuid": "fdc6f32b093051bbf90b3d11d3f2f38bea79e658"
      },
      "cell_type": "code",
      "source": "tsne = TSNE(\n    n_components = 3,\n    init = 'random', # pca\n    random_state = 101,\n    method = 'barnes_hut',\n    n_iter = 300,\n    verbose = 2,\n    angle = 0.5\n).fit_transform(tmp_drop_date[:10000].values)",
      "execution_count": null,
      "outputs": []
    },
    {
      "metadata": {
        "trusted": true,
        "_uuid": "b30fb26e9c8a94b02b3f17a9854ccd6be6d74acc"
      },
      "cell_type": "code",
      "source": "trace = go.Scatter3d(\n    x = tsne[:, 0],\n    y = tsne[:, 1],\n    z = tsne[:, 2],\n    mode = 'markers',\n    marker = dict(\n        size = 12,\n        color = lb.transform(train_df['Congestion_Type'].values),\n        colorscale = 'Portland',\n        colorbar = dict(title = 'Congestion'),\n        line = dict(color='rgb(255, 255, 255)'),\n        opacity = 0.5\n    )\n)\n\nlayout = go.Layout(\n    scene = dict(\n        camera = dict(\n            eye = dict(\n            x = 0.5,\n            y = 0.5,\n            z = 0.5\n            )\n        )\n    ),\n    margin = dict(\n        l = 0,\n        r = 0,\n        b = 0,\n        t = 0\n    )\n)\nfig = go.Figure(data = [trace], layout = layout)\niplot(fig, filename = '3d-scatter')",
      "execution_count": null,
      "outputs": []
    },
    {
      "metadata": {
        "trusted": true,
        "_uuid": "3cea7bd2828e1b12fa977c1c6f182166225650ca"
      },
      "cell_type": "code",
      "source": "plot_df = pd.DataFrame(dict(x=tsne[:,0], y=tsne[:,1], color=lb.transform(train_df.loc[:9999, target_name])))\nsns.lmplot('x', 'y', data=plot_df, hue='color', fit_reg=False, scatter_kws = {'alpha' : 0.3})\nplt.show()",
      "execution_count": null,
      "outputs": []
    },
    {
      "metadata": {
        "trusted": true,
        "_uuid": "2740fb6149711057648724bfa9e60dc204fa6a5d"
      },
      "cell_type": "code",
      "source": "import umap",
      "execution_count": null,
      "outputs": []
    },
    {
      "metadata": {
        "trusted": true,
        "_uuid": "c5c60baf65893e668aca49642b09028df617e97a"
      },
      "cell_type": "code",
      "source": "reduce = umap.UMAP(random_state = 223, n_components = 3)  #just for reproducibility\nembeddings = reduce.fit_transform(tmp_drop_date.values)",
      "execution_count": null,
      "outputs": []
    },
    {
      "metadata": {
        "trusted": false,
        "_uuid": "10a78ef020b2af840146b8c42c4c5bcc187c600a"
      },
      "cell_type": "code",
      "source": "trace = go.Scatter3d(\n    x = embeddings[:, 0],\n    y = embeddings[:, 1],\n    z = embeddings[:, 2],\n    mode = 'markers',\n    marker = dict(\n        size = 12,\n        color = lb.transform(train_df['Congestion_Type'].values),\n        colorscale = 'Portland',\n        colorbar = dict(title = 'Congestion'),\n        line = dict(color='rgb(255, 255, 255)'),\n        opacity = 0.5\n    )\n)\n\nlayout = go.Layout(\n    scene = dict(\n        camera = dict(\n            eye = dict(\n            x = 0.5,\n            y = 0.5,\n            z = 0.5\n            )\n        )\n    ),\n    margin = dict(\n        l = 0,\n        r = 0,\n        b = 0,\n        t = 0\n    )\n)\nfig = go.Figure(data = [trace], layout = layout)\niplot(fig, filename = '3d-scatter-umap')",
      "execution_count": null,
      "outputs": []
    },
    {
      "metadata": {
        "trusted": false,
        "_uuid": "df835faf8e5e051f180bc4ef44215d76f67e8aae"
      },
      "cell_type": "code",
      "source": "reduce = umap.UMAP(random_state = 446, n_components = 2)  #just for reproducibility\nembeddings = reduce.fit_transform(tmp_drop_date.values)",
      "execution_count": null,
      "outputs": []
    },
    {
      "metadata": {
        "_uuid": "9034f71783391873f860cf1d6df3b97b51ba7ce9",
        "trusted": false
      },
      "cell_type": "code",
      "source": "plot_df = pd.DataFrame(embeddings, columns = ['x', 'y'])\nplot_df[target_name] = train_df.loc[:, target_name]",
      "execution_count": null,
      "outputs": []
    },
    {
      "metadata": {
        "_uuid": "0877f623abf46d90018cc5a524e57c0b71095832",
        "trusted": false
      },
      "cell_type": "code",
      "source": "# fig = plt.Figure(figsize = (15, 15))\nax = sns.pairplot(x_vars = ['x'], y_vars = ['y'], data = plot_df, hue = target_name, kind = 'scatter', size = 11, plot_kws = {'s' : 80, 'alpha' : 0.6})\nax.fig.suptitle('Embedding clustered with UMAP');",
      "execution_count": null,
      "outputs": []
    },
    {
      "metadata": {
        "trusted": true,
        "_uuid": "6b7148493d69a2339eea7146e0a667a863756f9e"
      },
      "cell_type": "code",
      "source": "trace = go.Scatter3d(\n    x = embeddings[:, 0],\n    y = embeddings[:, 1],\n    z = lb.transform(train_df['Congestion_Type'].values),\n    mode = 'markers',\n    marker = dict(\n        size = 12,\n        color = lb.transform(train_df['Congestion_Type'].values),\n        colorscale = 'Portland',\n        colorbar = dict(title = 'Congestion'),\n        line = dict(color='rgb(255, 255, 255)'),\n        opacity = 0.5\n    )\n)\n\nlayout = go.Layout(\n    scene = dict(\n        camera = dict(\n            eye = dict(\n            x = 0.5,\n            y = 0.5,\n            z = 0.5\n            )\n        )\n    ),\n    margin = dict(\n        l = 0,\n        r = 0,\n        b = 0,\n        t = 0\n    )\n)\nfig = go.Figure(data = [trace], layout = layout)\niplot(fig, filename = '3d-scatter-umap-with-label')",
      "execution_count": null,
      "outputs": []
    },
    {
      "metadata": {
        "_uuid": "b22646a88ba0d0149448f08de7b649d516996eb9"
      },
      "cell_type": "markdown",
      "source": "### Using HDBSCAN to get the no of clusters"
    },
    {
      "metadata": {
        "trusted": true,
        "_uuid": "e435ff964c3d7a543c0ce93aed741c19525d8b8f"
      },
      "cell_type": "code",
      "source": "reduce = umap.UMAP(random_state = 1333, n_components = 2)  #just for reproducibility\nembeddings = reduce.fit_transform(tmp_drop_date.values)",
      "execution_count": null,
      "outputs": []
    },
    {
      "metadata": {
        "trusted": true,
        "_uuid": "1f53290fb174a86b2adf0c5af444b1bed41d215f"
      },
      "cell_type": "code",
      "source": "plot_kwds = {'alpha' : 0.4, 's' : 80, 'linewidths':0}",
      "execution_count": null,
      "outputs": []
    },
    {
      "metadata": {
        "trusted": true,
        "_uuid": "3b3be979a173e664437455ddfdde39776f00a8e8"
      },
      "cell_type": "code",
      "source": "def plot_clusters(data, algorithm, args, kwds):\n    start_time = time.time()\n    clusterer = algorithm(*args, **kwds).fit(data)\n    labels, strength = hdbscan.approximate_predict(clusterer, data)\n    end_time = time.time()\n    palette = sns.color_palette('deep', np.unique(labels).max() + 1)\n    colors = [sns.desaturate(palette[col], sat) for col, sat in zip(clusterer.labels_, clusterer.probabilities_)]\n#     colors = [palette[x] if x >= 0 else (0.0, 0.0, 0.0) for x in labels]\n    plt.scatter(data[:, 0], data[:, 1], c=colors, **plot_kwds)\n    frame = plt.gca()\n    frame.axes.get_xaxis().set_visible(False)\n    frame.axes.get_yaxis().set_visible(False)\n    plt.title('Clusters found by {}'.format(str(algorithm.__name__)), fontsize=24)\n    plt.text(-0.5, 0.7, 'Clustering took {:.2f} s'.format(end_time - start_time), fontsize=14)\n    return clusterer",
      "execution_count": null,
      "outputs": []
    },
    {
      "metadata": {
        "trusted": true,
        "_uuid": "26211744bcd7e4fad01641b83d56d204c60c5790"
      },
      "cell_type": "code",
      "source": "clusterer = plot_clusters(embeddings, hdbscan.HDBSCAN, (), {'prediction_data':True, 'min_cluster_size':15})",
      "execution_count": null,
      "outputs": []
    },
    {
      "metadata": {
        "trusted": true,
        "_uuid": "6718cc5d0c9809cf944b830ad3b5712202ceb7e0"
      },
      "cell_type": "code",
      "source": "np.unique(clusterer.labels_)",
      "execution_count": null,
      "outputs": []
    },
    {
      "metadata": {
        "trusted": true,
        "_uuid": "b63031a97421145ed18c018de46c4312d30748f6"
      },
      "cell_type": "code",
      "source": "clusterer = plot_clusters(tsne, hdbscan.HDBSCAN, (), {'prediction_data':True, 'min_cluster_size':15})",
      "execution_count": null,
      "outputs": []
    },
    {
      "metadata": {
        "trusted": true,
        "_uuid": "678effdc5e1b8b10b14040cb6ba2f7b704133b6d"
      },
      "cell_type": "code",
      "source": "np.unique(clusterer.labels_)",
      "execution_count": null,
      "outputs": []
    },
    {
      "metadata": {
        "trusted": true,
        "_uuid": "2f3c8dd919ce333f55a1b00f46e3a8068c210082"
      },
      "cell_type": "code",
      "source": "",
      "execution_count": null,
      "outputs": []
    },
    {
      "metadata": {
        "trusted": true,
        "_uuid": "225c429ed96d5b533566f16883af9f82c5fbbead"
      },
      "cell_type": "markdown",
      "source": "### PCA, Cluster information, Date/No-date and seeing results\n### Will work with tmp and tmp_drop"
    },
    {
      "metadata": {
        "trusted": true,
        "_uuid": "697250b54fe68939cc37d16595183c0db13147ef"
      },
      "cell_type": "code",
      "source": "from sklearn.model_selection import train_test_split\nfrom sklearn.pipeline import Pipeline\nfrom sklearn.preprocessing import LabelBinarizer\nfrom sklearn.model_selection import train_test_split,cross_val_predict,cross_val_score,cross_validate\nfrom sklearn.feature_extraction.stop_words import ENGLISH_STOP_WORDS\nfrom sklearn.linear_model import SGDClassifier,Perceptron,PassiveAggressiveClassifier,RidgeClassifier, LogisticRegression, LogisticRegressionCV\nfrom sklearn.naive_bayes import MultinomialNB\nfrom sklearn.feature_selection import SelectFromModel,SelectKBest,chi2\nfrom sklearn.svm import LinearSVC, SVC\nfrom sklearn.naive_bayes import BernoulliNB, MultinomialNB\nfrom sklearn.neighbors import KNeighborsClassifier,NearestCentroid\nfrom sklearn.ensemble import RandomForestClassifier\nfrom sklearn.utils.extmath import density\nfrom sklearn import metrics",
      "execution_count": null,
      "outputs": []
    },
    {
      "metadata": {
        "trusted": true,
        "_uuid": "fdfd5738c0f2f1cabe68ac8c0882ee436f6ec3e6"
      },
      "cell_type": "code",
      "source": "# for col in tmp.columns:\n#     normalize_col(3, tmp, col)\n\n# for col in tmp_drop_date.columns:\n#     normalize_col(3, tmp_drop_date, col)",
      "execution_count": null,
      "outputs": []
    },
    {
      "metadata": {
        "trusted": true,
        "_uuid": "aefdf87be4a6ce1cc7cbe6e33e067c391ec5b53e"
      },
      "cell_type": "code",
      "source": "tmp.head()",
      "execution_count": null,
      "outputs": []
    },
    {
      "metadata": {
        "_uuid": "a02a9c23752f9305190c8edbd909397516e40f65"
      },
      "cell_type": "markdown",
      "source": "### TASK ::\n- Try not to scale categorical columns"
    },
    {
      "metadata": {
        "trusted": true,
        "_uuid": "5626cbbba1b1221173b6020aded569bf43290adf"
      },
      "cell_type": "code",
      "source": "tmp_cols = tmp.columns[4 : -4].values.tolist() + [tmp.columns[-1]]",
      "execution_count": null,
      "outputs": []
    },
    {
      "metadata": {
        "trusted": true,
        "scrolled": true,
        "_uuid": "4866b43d8cda39aafc5505d7830198efe4a2df9f"
      },
      "cell_type": "code",
      "source": "tmp_cols",
      "execution_count": null,
      "outputs": []
    },
    {
      "metadata": {
        "trusted": true,
        "_uuid": "77bbd7c089903f2a2a13377efdd48822b6016366"
      },
      "cell_type": "code",
      "source": "tmp_drop_date.head()",
      "execution_count": null,
      "outputs": []
    },
    {
      "metadata": {
        "trusted": true,
        "_uuid": "11cec21285d9ed9e3a35fff0569f157717a33a75"
      },
      "cell_type": "code",
      "source": "tmp_date_cols = tmp_drop_date.columns[1 : -4].values.tolist() + [tmp_drop_date.columns[-1]]",
      "execution_count": null,
      "outputs": []
    },
    {
      "metadata": {
        "trusted": true,
        "_uuid": "d3442a9d783558bc36231c5d6c32be3f2827090e"
      },
      "cell_type": "code",
      "source": "tmp_date_cols",
      "execution_count": null,
      "outputs": []
    },
    {
      "metadata": {
        "trusted": true,
        "_uuid": "54c2e3a6eb8709ff38086fa17a3afd1ccf33ba6d"
      },
      "cell_type": "code",
      "source": "assert(tmp_cols == tmp_date_cols)",
      "execution_count": null,
      "outputs": []
    },
    {
      "metadata": {
        "trusted": true,
        "_uuid": "c932a57807f9fbd910f4fa5db758241741edd42f"
      },
      "cell_type": "code",
      "source": "for col in tmp_cols:\n    normalize_col(3, tmp, col)\n\nfor col in tmp_date_cols:\n    normalize_col(3, tmp_drop_date, col)",
      "execution_count": null,
      "outputs": []
    },
    {
      "metadata": {
        "trusted": true,
        "_uuid": "4cb4a57959dca498c0938174f03dd74bf2bb4893"
      },
      "cell_type": "code",
      "source": "X = tmp.values\nX_date = tmp_drop_date.values",
      "execution_count": null,
      "outputs": []
    },
    {
      "metadata": {
        "trusted": true,
        "_uuid": "d57b8fe67d335905e0416ba808679c8471db2bef"
      },
      "cell_type": "code",
      "source": "y = lb.transform(train_df['Congestion_Type'])\ny",
      "execution_count": null,
      "outputs": []
    },
    {
      "metadata": {
        "trusted": true,
        "_uuid": "0f220da6af8d4b72d5622223a8a1b699437ee352"
      },
      "cell_type": "code",
      "source": "x_train, x_valid, y_train, y_valid = train_test_split(X, y, test_size = 0.2, random_state = 4242, stratify = y)\nx_date_train, x_date_valid, y_train, y_valid = train_test_split(X_date, y, test_size = 0.2, random_state = 2424, stratify = y)",
      "execution_count": null,
      "outputs": []
    },
    {
      "metadata": {
        "trusted": true,
        "_uuid": "2ea57a0ee2b404688706124f3e4fd36468d5ad13"
      },
      "cell_type": "code",
      "source": "target_names = lb.classes_\ntarget_names",
      "execution_count": null,
      "outputs": []
    },
    {
      "metadata": {
        "trusted": true,
        "_uuid": "24d57b75658488b4b96bfec36e63f7dd98d45855"
      },
      "cell_type": "code",
      "source": "from time import time",
      "execution_count": null,
      "outputs": []
    },
    {
      "metadata": {
        "trusted": true,
        "_uuid": "9d444155989c20b73594890147e126c540214469"
      },
      "cell_type": "code",
      "source": "def benchmark(clf, name = None, x_train = x_train, x_valid = x_valid):\n    print('_' * 80)\n    print(\"Training: \")\n    print(clf)\n    t0 = time()\n    clf.fit(x_train, y_train)\n    train_time = time() - t0\n    print(\"train time: %0.3fs\" % train_time)\n\n    t0 = time()\n    pred = clf.predict(x_valid)\n    test_time = time() - t0\n    print(\"test time:  %0.3fs\" % test_time)\n    \n    score = metrics.accuracy_score(y_valid, pred)\n    \n    train_pred = clf.predict(x_train)\n    train_score = metrics.accuracy_score(y_train, train_pred)\n    \n    print(\"Train accuracy:   %0.3f\" % train_score)\n    print(\"Validation accuracy:   %0.3f\" % score)\n\n    \n    print(\"classification report: Valid\")\n    print(metrics.classification_report(y_valid, pred,\n                                            target_names=target_names))\n\n    print(\"classification report: Train\")\n    print(metrics.classification_report(y_train,train_pred,\n                                            target_names=target_names))\n    \n    print(\"confusion matrix:Valid\")\n    cm = metrics.confusion_matrix(y_valid, pred)\n    print(cm)\n    \n    print(\"confusion matrix: Train\")\n    m = metrics.confusion_matrix(y_train,train_pred)\n    print(m)\n    \n    fig = plt.figure(figsize=(18,20))\n    ax = sns.heatmap(cm, annot=True, annot_kws={\"size\": 14},\n            fmt='g', cmap='OrRd', xticklabels=target_names, yticklabels=target_names)\n    txt = name + ' method has an accurcy of ' + str(100*score)\n    fig.text(.5, .05, txt, ha='center',fontsize='xx-large')\n    plt.tight_layout()\n#     plt.savefig('./plots/' + name + '.jpg')\n\n    print()\n    clf_descr = str(clf).split('(')[0]\n    return clf_descr, score, train_time, test_time",
      "execution_count": null,
      "outputs": []
    },
    {
      "metadata": {
        "trusted": true,
        "_uuid": "a014441b727829d9fc6f37655656e2baff007626"
      },
      "cell_type": "code",
      "source": "def trim(s):\n    \"\"\"Trim string to fit on terminal (assuming 80-column display)\"\"\"\n    return s if len(s) <= 80 else s[:77] + \"...\"",
      "execution_count": null,
      "outputs": []
    },
    {
      "metadata": {
        "trusted": true,
        "_uuid": "82dd04c917961232c8935460f446720d69b21e19"
      },
      "cell_type": "code",
      "source": "results = []\nfor clf, name in (\n        (LogisticRegression(C = 2.0, tol = 1e-5, random_state = 420, solver = 'lbfgs', multi_class = 'multinomial', max_iter = 1000), \"LR\"),\n#         (SVC(), \"SVC\"),\n        (RidgeClassifier(tol=1e-2, solver=\"lsqr\", max_iter=300), \"Ridge Classifier\"),\n        (Perceptron(max_iter=300, tol=1e-3, n_jobs=-1), \"Perceptron\"),\n        (PassiveAggressiveClassifier(max_iter=2000, tol=1e-5, n_jobs=-1), \"Passive-Aggressive\"),\n        (KNeighborsClassifier(n_neighbors=5, n_jobs=-1), \"kNN\"),\n        (RandomForestClassifier(n_estimators=100, n_jobs = -1), \"Random forest\")):\n    print('=' * 80)\n    print(name)\n    results.append(benchmark(clf,name,x_train, x_valid))\n\nfor penalty in [\"l2\", \"l1\"]:\n    print('=' * 80)\n    print(\"%s penalty\" % penalty.upper())\n    # Train Liblinear model\n    results.append(benchmark(LinearSVC(penalty=penalty, dual=False,max_iter=3000,\n                                       tol=1e-4),'LinearSVC',x_train, x_valid))\n\n    # Train SGD model\n    results.append(benchmark(SGDClassifier(alpha=.0001, max_iter=2000, tol=1e-4,\n                                           penalty=penalty),'SGDClassifer_'+penalty,x_train, x_valid))\n\n# Train SGD with Elastic Net penalty\nprint('=' * 80)\nprint(\"Elastic-Net penalty\")\nresults.append(benchmark(SGDClassifier(alpha=.0001, max_iter=1000, tol=1e-4,\n                                       penalty=\"elasticnet\"),'SGDClassifer_elasticnet',x_train, x_valid))\n\nprint('=' * 80)\nprint(\"LinearSVC with L1-based feature selection\")\n# The smaller C, the stronger the regularization.\n# The more regularization, the more sparsity.\nresults.append(benchmark(Pipeline([\n  ('feature_selection', SelectFromModel(LinearSVC(penalty=\"l1\", dual=False,\n                                                  tol=1e-4, ))),\n  ('classification', LinearSVC(penalty=\"l2\", class_weight = 'balanced'))]),'pipeline',x_train, x_valid))",
      "execution_count": null,
      "outputs": []
    },
    {
      "metadata": {
        "trusted": true,
        "_uuid": "1178fef74216d7d5adc4459e007db74b3c1b33a5"
      },
      "cell_type": "code",
      "source": "from sklearn.naive_bayes import GaussianNB\nfrom sklearn.tree import DecisionTreeClassifier\nfrom sklearn.ensemble import RandomForestClassifier",
      "execution_count": null,
      "outputs": []
    },
    {
      "metadata": {
        "trusted": true,
        "_uuid": "cc5cef4a247227e4223f5cf2f3047013bca23912"
      },
      "cell_type": "code",
      "source": "results = []\nfor clf, name in (\n        (LogisticRegression(C = 2.0, tol = 1e-5, random_state = 420, solver = 'lbfgs', multi_class = 'multinomial', max_iter = 1000), \"LR_LBFGS\"),\n        (LogisticRegression(C = 2.0, tol = 1e-5, random_state = 420, solver = 'saga', multi_class = 'multinomial', max_iter = 1000, penalty = 'l1'), \"LR_SAGA\"),\n        (LogisticRegression(C = 2.0, tol = 1e-5, random_state = 420, solver = 'newton-cg', multi_class = 'multinomial', max_iter = 1000), \"LR_NEWTON-CG\"),\n        (SVC(gamma = 'auto'), \"SVC\"),\n        (GaussianNB(), \"NB\"),\n        (DecisionTreeClassifier(random_state=0), \"Decision\"),\n        (RandomForestClassifier(n_estimators=100,max_depth=2,random_state=0, n_jobs = -1), \"Random forest\")):\n    print('=' * 80)\n    print(name)\n    results.append(benchmark(clf,name,x_date_train, x_date_valid))",
      "execution_count": null,
      "outputs": []
    },
    {
      "metadata": {
        "trusted": true,
        "_uuid": "d96b1b8450bfe7d12c493fdead5d8fde2a24889e"
      },
      "cell_type": "code",
      "source": "",
      "execution_count": null,
      "outputs": []
    },
    {
      "metadata": {
        "_uuid": "df20ba7d2defaae465119c9b7843814d24ad2121"
      },
      "cell_type": "markdown",
      "source": "## With PCA"
    },
    {
      "metadata": {
        "trusted": true,
        "_uuid": "815aa3ebaa6e6157ea6792271da0452de99d3f06"
      },
      "cell_type": "code",
      "source": "from sklearn.decomposition import PCA",
      "execution_count": null,
      "outputs": []
    },
    {
      "metadata": {
        "trusted": true,
        "_uuid": "cf437fd6ea97638c157adb16ea90257505a35f93"
      },
      "cell_type": "code",
      "source": "pca = PCA(n_components = 20)\nX = pca.fit_transform(tmp.values)",
      "execution_count": null,
      "outputs": []
    },
    {
      "metadata": {
        "trusted": true,
        "_uuid": "61e30da91ee6a5e9407a42bfabd2ae450540f435"
      },
      "cell_type": "code",
      "source": "pca.explained_variance_ratio_.sum()",
      "execution_count": null,
      "outputs": []
    },
    {
      "metadata": {
        "trusted": true,
        "_uuid": "9d1eeb92e6df881b7a5f6fcb09cbfc426df58ffe"
      },
      "cell_type": "code",
      "source": "pca = PCA(n_components = 20)\nX_date = pca.fit_transform(tmp_drop_date.values)",
      "execution_count": null,
      "outputs": []
    },
    {
      "metadata": {
        "trusted": true,
        "_uuid": "16ef1b3d98791fe0a526a23ea652836d63b9c76e"
      },
      "cell_type": "code",
      "source": "pca.explained_variance_ratio_.sum()",
      "execution_count": null,
      "outputs": []
    },
    {
      "metadata": {
        "trusted": true,
        "_uuid": "7df9672e2b4b5951c7f0dcae606d54de73fb3c2c"
      },
      "cell_type": "code",
      "source": "X = np.concatenate((tmp.values, X), axis = 1)",
      "execution_count": null,
      "outputs": []
    },
    {
      "metadata": {
        "trusted": true,
        "_uuid": "0d017bf501c8dc5a86d28015e205c4f727839889"
      },
      "cell_type": "code",
      "source": "X_date = np.concatenate((tmp_drop_date.values, X_date), axis = 1)",
      "execution_count": null,
      "outputs": []
    },
    {
      "metadata": {
        "trusted": true,
        "_uuid": "acd8241180a2556b4df7a938dbb01a82d145e711"
      },
      "cell_type": "code",
      "source": "X.shape, X_date.shape, y.shape",
      "execution_count": null,
      "outputs": []
    },
    {
      "metadata": {
        "trusted": true,
        "_uuid": "0f220da6af8d4b72d5622223a8a1b699437ee352"
      },
      "cell_type": "code",
      "source": "x_train, x_valid, y_train, y_valid = train_test_split(X, y, test_size = 0.2, random_state = 4242, stratify = y)\nx_date_train, x_date_valid, y_train, y_valid = train_test_split(X_date, y, test_size = 0.2, random_state = 2424, stratify = y)",
      "execution_count": null,
      "outputs": []
    },
    {
      "metadata": {
        "trusted": true,
        "_uuid": "2ea57a0ee2b404688706124f3e4fd36468d5ad13"
      },
      "cell_type": "code",
      "source": "target_names = lb.classes_\ntarget_names",
      "execution_count": null,
      "outputs": []
    },
    {
      "metadata": {
        "trusted": true,
        "_uuid": "e7d003572d204289d91ac8cfac45b65de8548d3c"
      },
      "cell_type": "code",
      "source": "results = []\nfor clf, name in (\n        (LogisticRegression(C = 2.0, tol = 1e-5, random_state = 420, solver = 'lbfgs', multi_class = 'multinomial', max_iter = 1000), \"LR_LBFGS\"),\n        (LogisticRegression(C = 2.0, tol = 1e-5, random_state = 420, solver = 'saga', multi_class = 'multinomial', max_iter = 1000, penalty = 'l1'), \"LR_SAGA\"),\n        (LogisticRegression(C = 2.0, tol = 1e-5, random_state = 420, solver = 'newton-cg', multi_class = 'multinomial', max_iter = 1000), \"LR_NEWTON-CG\"),\n        (SVC(gamma = 'auto'), \"SVC\"),\n        (GaussianNB(), \"NB\"),\n        (DecisionTreeClassifier(random_state=0), \"Decision\"),\n        (RandomForestClassifier(n_estimators=100,max_depth=2,random_state=0, n_jobs = -1), \"Random forest\")):\n    print('=' * 80)\n    print(name)\n    results.append(benchmark(clf,name,x_date_train, x_date_valid))",
      "execution_count": null,
      "outputs": []
    },
    {
      "metadata": {
        "_uuid": "5999664840b41ed475b63ed19ed6fcacc48341fa"
      },
      "cell_type": "markdown",
      "source": "### PCA ON BYTES COL ONLY"
    },
    {
      "metadata": {
        "trusted": true,
        "_uuid": "67eb07a1fc7d4706a2f6124e2646fbc5ddbde35e"
      },
      "cell_type": "code",
      "source": "tmp_bytes = tmp.copy(deep = True)\ntmp_drop_date_bytes = tmp_drop_date.copy(deep = True)",
      "execution_count": 133,
      "outputs": []
    },
    {
      "metadata": {
        "trusted": true,
        "_uuid": "50ccce5426c223e0051eb8b29ac03142b34b545c"
      },
      "cell_type": "code",
      "source": "tmp_bytes.head()",
      "execution_count": 134,
      "outputs": [
        {
          "output_type": "execute_result",
          "execution_count": 134,
          "data": {
            "text/plain": "   4G_rat  par_day  par_hour  par_min  subscriber_count  \\\n0       1       15         0       50         -0.070423   \n1       1        7        20        5         -0.267606   \n2       1        5        16       35          0.181087   \n3       0       16        21       60         -0.273642   \n4       1        4         6       60         -0.140845   \n\n   web_browsing_total_bytes  video_total_bytes  social_ntwrking_bytes  \\\n0                 -0.200603           8.940787               0.089303   \n1                  0.053065          -0.208709               0.435507   \n2                 -0.107352          -0.113437               3.375029   \n3                  1.146316          -0.183760               0.959401   \n4                  0.087789          -0.096129               0.850524   \n\n   cloud_computing_total_bytes  web_security_total_bytes  gaming_total_bytes  \\\n0                     1.612595                  1.301587            5.870968   \n1                    -0.240458                 -0.031746           -0.274194   \n2                    -0.034351                 -0.206349           -0.403226   \n3                    -0.234733                  0.460317           -0.193548   \n4                     0.082061                  0.444444            0.951613   \n\n   health_total_bytes  communication_total_bytes  file_sharing_total_bytes  \\\n0            0.578125                   2.904192                    -0.500   \n1           -0.312500                  -0.233234                    -0.500   \n2            0.328125                   0.869461                    -0.375   \n3           -0.265625                   0.359281                     0.500   \n4           -0.187500                  -0.092515                     0.375   \n\n   remote_access_total_bytes  photo_sharing_total_bytes  \\\n0                   0.352941                  -0.294118   \n1                  -0.294118                  -0.147059   \n2                  -0.117647                   0.500000   \n3                   0.000000                   2.323529   \n4                   4.647059                  -0.147059   \n\n   software_dwnld_total_bytes  marketplace_total_bytes  \\\n0                    0.617647                -0.448276   \n1                   -0.117647                -0.310345   \n2                    0.441176                -0.068966   \n3                   -0.294118                -0.448276   \n4                    0.529412                 1.896552   \n\n   storage_services_total_bytes  audio_total_bytes  \\\n0                     -0.338710           0.620690   \n1                     -0.209677           0.275862   \n2                      0.241935          -0.206897   \n3                     -0.258065           2.206897   \n4                     -0.129032           0.862069   \n\n   location_services_total_bytes  presence_total_bytes  \\\n0                       0.403226              3.344599   \n1                      -0.451613             -0.202329   \n2                      -0.435484              4.524473   \n3                       0.161290             -0.228515   \n4                      13.048387              0.017812   \n\n   advertisement_total_bytes  system_total_bytes  voip_total_bytes  \\\n0                   0.935484           -0.241935         -0.241935   \n1                   0.258065           -0.387097         -0.193548   \n2                  -0.354839            0.161290          1.854839   \n3                  -0.290323           -0.370968          0.064516   \n4                   1.370968            0.193548          3.903226   \n\n   speedtest_total_bytes  email_total_bytes  weather_total_bytes  \\\n0              -0.322581          -0.322581             0.047619   \n1              -0.354839          -0.129032            -0.158730   \n2              -0.112903          -0.258065             0.968254   \n3              -0.435484          -0.322581             0.523810   \n4              -0.419355           0.596774             0.460317   \n\n   media_total_bytes  mms_total_bytes  others_total_bytes  beam_direction  \\\n0           0.262295         0.145161            1.177419       -0.700000   \n1          -0.377049        -0.322581           -0.145161        0.100000   \n2           0.311475         1.887097            2.080645       -0.433333   \n3           0.196721         0.725806            0.080645        0.166667   \n4           1.000000         2.693548            4.612903        0.733333   \n\n   cell_range  tilt  ran_vendor  total_bytes  \n0           6     2           0     1.964124  \n1           7     5           2    -0.396529  \n2           6     3           0     0.765574  \n3           7     2           1    -0.020801  \n4           3     5           1    -0.181540  ",
            "text/html": "<div>\n<style scoped>\n    .dataframe tbody tr th:only-of-type {\n        vertical-align: middle;\n    }\n\n    .dataframe tbody tr th {\n        vertical-align: top;\n    }\n\n    .dataframe thead th {\n        text-align: right;\n    }\n</style>\n<table border=\"1\" class=\"dataframe\">\n  <thead>\n    <tr style=\"text-align: right;\">\n      <th></th>\n      <th>4G_rat</th>\n      <th>par_day</th>\n      <th>par_hour</th>\n      <th>par_min</th>\n      <th>subscriber_count</th>\n      <th>web_browsing_total_bytes</th>\n      <th>video_total_bytes</th>\n      <th>social_ntwrking_bytes</th>\n      <th>cloud_computing_total_bytes</th>\n      <th>web_security_total_bytes</th>\n      <th>gaming_total_bytes</th>\n      <th>health_total_bytes</th>\n      <th>communication_total_bytes</th>\n      <th>file_sharing_total_bytes</th>\n      <th>remote_access_total_bytes</th>\n      <th>photo_sharing_total_bytes</th>\n      <th>software_dwnld_total_bytes</th>\n      <th>marketplace_total_bytes</th>\n      <th>storage_services_total_bytes</th>\n      <th>audio_total_bytes</th>\n      <th>location_services_total_bytes</th>\n      <th>presence_total_bytes</th>\n      <th>advertisement_total_bytes</th>\n      <th>system_total_bytes</th>\n      <th>voip_total_bytes</th>\n      <th>speedtest_total_bytes</th>\n      <th>email_total_bytes</th>\n      <th>weather_total_bytes</th>\n      <th>media_total_bytes</th>\n      <th>mms_total_bytes</th>\n      <th>others_total_bytes</th>\n      <th>beam_direction</th>\n      <th>cell_range</th>\n      <th>tilt</th>\n      <th>ran_vendor</th>\n      <th>total_bytes</th>\n    </tr>\n  </thead>\n  <tbody>\n    <tr>\n      <th>0</th>\n      <td>1</td>\n      <td>15</td>\n      <td>0</td>\n      <td>50</td>\n      <td>-0.070423</td>\n      <td>-0.200603</td>\n      <td>8.940787</td>\n      <td>0.089303</td>\n      <td>1.612595</td>\n      <td>1.301587</td>\n      <td>5.870968</td>\n      <td>0.578125</td>\n      <td>2.904192</td>\n      <td>-0.500</td>\n      <td>0.352941</td>\n      <td>-0.294118</td>\n      <td>0.617647</td>\n      <td>-0.448276</td>\n      <td>-0.338710</td>\n      <td>0.620690</td>\n      <td>0.403226</td>\n      <td>3.344599</td>\n      <td>0.935484</td>\n      <td>-0.241935</td>\n      <td>-0.241935</td>\n      <td>-0.322581</td>\n      <td>-0.322581</td>\n      <td>0.047619</td>\n      <td>0.262295</td>\n      <td>0.145161</td>\n      <td>1.177419</td>\n      <td>-0.700000</td>\n      <td>6</td>\n      <td>2</td>\n      <td>0</td>\n      <td>1.964124</td>\n    </tr>\n    <tr>\n      <th>1</th>\n      <td>1</td>\n      <td>7</td>\n      <td>20</td>\n      <td>5</td>\n      <td>-0.267606</td>\n      <td>0.053065</td>\n      <td>-0.208709</td>\n      <td>0.435507</td>\n      <td>-0.240458</td>\n      <td>-0.031746</td>\n      <td>-0.274194</td>\n      <td>-0.312500</td>\n      <td>-0.233234</td>\n      <td>-0.500</td>\n      <td>-0.294118</td>\n      <td>-0.147059</td>\n      <td>-0.117647</td>\n      <td>-0.310345</td>\n      <td>-0.209677</td>\n      <td>0.275862</td>\n      <td>-0.451613</td>\n      <td>-0.202329</td>\n      <td>0.258065</td>\n      <td>-0.387097</td>\n      <td>-0.193548</td>\n      <td>-0.354839</td>\n      <td>-0.129032</td>\n      <td>-0.158730</td>\n      <td>-0.377049</td>\n      <td>-0.322581</td>\n      <td>-0.145161</td>\n      <td>0.100000</td>\n      <td>7</td>\n      <td>5</td>\n      <td>2</td>\n      <td>-0.396529</td>\n    </tr>\n    <tr>\n      <th>2</th>\n      <td>1</td>\n      <td>5</td>\n      <td>16</td>\n      <td>35</td>\n      <td>0.181087</td>\n      <td>-0.107352</td>\n      <td>-0.113437</td>\n      <td>3.375029</td>\n      <td>-0.034351</td>\n      <td>-0.206349</td>\n      <td>-0.403226</td>\n      <td>0.328125</td>\n      <td>0.869461</td>\n      <td>-0.375</td>\n      <td>-0.117647</td>\n      <td>0.500000</td>\n      <td>0.441176</td>\n      <td>-0.068966</td>\n      <td>0.241935</td>\n      <td>-0.206897</td>\n      <td>-0.435484</td>\n      <td>4.524473</td>\n      <td>-0.354839</td>\n      <td>0.161290</td>\n      <td>1.854839</td>\n      <td>-0.112903</td>\n      <td>-0.258065</td>\n      <td>0.968254</td>\n      <td>0.311475</td>\n      <td>1.887097</td>\n      <td>2.080645</td>\n      <td>-0.433333</td>\n      <td>6</td>\n      <td>3</td>\n      <td>0</td>\n      <td>0.765574</td>\n    </tr>\n    <tr>\n      <th>3</th>\n      <td>0</td>\n      <td>16</td>\n      <td>21</td>\n      <td>60</td>\n      <td>-0.273642</td>\n      <td>1.146316</td>\n      <td>-0.183760</td>\n      <td>0.959401</td>\n      <td>-0.234733</td>\n      <td>0.460317</td>\n      <td>-0.193548</td>\n      <td>-0.265625</td>\n      <td>0.359281</td>\n      <td>0.500</td>\n      <td>0.000000</td>\n      <td>2.323529</td>\n      <td>-0.294118</td>\n      <td>-0.448276</td>\n      <td>-0.258065</td>\n      <td>2.206897</td>\n      <td>0.161290</td>\n      <td>-0.228515</td>\n      <td>-0.290323</td>\n      <td>-0.370968</td>\n      <td>0.064516</td>\n      <td>-0.435484</td>\n      <td>-0.322581</td>\n      <td>0.523810</td>\n      <td>0.196721</td>\n      <td>0.725806</td>\n      <td>0.080645</td>\n      <td>0.166667</td>\n      <td>7</td>\n      <td>2</td>\n      <td>1</td>\n      <td>-0.020801</td>\n    </tr>\n    <tr>\n      <th>4</th>\n      <td>1</td>\n      <td>4</td>\n      <td>6</td>\n      <td>60</td>\n      <td>-0.140845</td>\n      <td>0.087789</td>\n      <td>-0.096129</td>\n      <td>0.850524</td>\n      <td>0.082061</td>\n      <td>0.444444</td>\n      <td>0.951613</td>\n      <td>-0.187500</td>\n      <td>-0.092515</td>\n      <td>0.375</td>\n      <td>4.647059</td>\n      <td>-0.147059</td>\n      <td>0.529412</td>\n      <td>1.896552</td>\n      <td>-0.129032</td>\n      <td>0.862069</td>\n      <td>13.048387</td>\n      <td>0.017812</td>\n      <td>1.370968</td>\n      <td>0.193548</td>\n      <td>3.903226</td>\n      <td>-0.419355</td>\n      <td>0.596774</td>\n      <td>0.460317</td>\n      <td>1.000000</td>\n      <td>2.693548</td>\n      <td>4.612903</td>\n      <td>0.733333</td>\n      <td>3</td>\n      <td>5</td>\n      <td>1</td>\n      <td>-0.181540</td>\n    </tr>\n  </tbody>\n</table>\n</div>"
          },
          "metadata": {}
        }
      ]
    },
    {
      "metadata": {
        "trusted": true,
        "_uuid": "5626cbbba1b1221173b6020aded569bf43290adf"
      },
      "cell_type": "code",
      "source": "tmp_cols_bytes = tmp_bytes.columns[5 : -5].values.tolist() + [tmp_bytes.columns[-1]]\ntmp_cols_bytes",
      "execution_count": 135,
      "outputs": [
        {
          "output_type": "execute_result",
          "execution_count": 135,
          "data": {
            "text/plain": "['web_browsing_total_bytes',\n 'video_total_bytes',\n 'social_ntwrking_bytes',\n 'cloud_computing_total_bytes',\n 'web_security_total_bytes',\n 'gaming_total_bytes',\n 'health_total_bytes',\n 'communication_total_bytes',\n 'file_sharing_total_bytes',\n 'remote_access_total_bytes',\n 'photo_sharing_total_bytes',\n 'software_dwnld_total_bytes',\n 'marketplace_total_bytes',\n 'storage_services_total_bytes',\n 'audio_total_bytes',\n 'location_services_total_bytes',\n 'presence_total_bytes',\n 'advertisement_total_bytes',\n 'system_total_bytes',\n 'voip_total_bytes',\n 'speedtest_total_bytes',\n 'email_total_bytes',\n 'weather_total_bytes',\n 'media_total_bytes',\n 'mms_total_bytes',\n 'others_total_bytes',\n 'total_bytes']"
          },
          "metadata": {}
        }
      ]
    },
    {
      "metadata": {
        "trusted": true,
        "_uuid": "4a9d8dfbae94bf846a5c07e797b657834c2694d1"
      },
      "cell_type": "code",
      "source": "tmp_drop_date_bytes.head()",
      "execution_count": 136,
      "outputs": [
        {
          "output_type": "execute_result",
          "execution_count": 136,
          "data": {
            "text/plain": "   4G_rat  subscriber_count  web_browsing_total_bytes  video_total_bytes  \\\n0       1         -0.070423                 -0.200603           8.940787   \n1       1         -0.267606                  0.053065          -0.208709   \n2       1          0.181087                 -0.107352          -0.113437   \n3       0         -0.273642                  1.146316          -0.183760   \n4       1         -0.140845                  0.087789          -0.096129   \n\n   social_ntwrking_bytes  cloud_computing_total_bytes  \\\n0               0.089303                     1.612595   \n1               0.435507                    -0.240458   \n2               3.375029                    -0.034351   \n3               0.959401                    -0.234733   \n4               0.850524                     0.082061   \n\n   web_security_total_bytes  gaming_total_bytes  health_total_bytes  \\\n0                  1.301587            5.870968            0.578125   \n1                 -0.031746           -0.274194           -0.312500   \n2                 -0.206349           -0.403226            0.328125   \n3                  0.460317           -0.193548           -0.265625   \n4                  0.444444            0.951613           -0.187500   \n\n   communication_total_bytes  file_sharing_total_bytes  \\\n0                   2.904192                    -0.500   \n1                  -0.233234                    -0.500   \n2                   0.869461                    -0.375   \n3                   0.359281                     0.500   \n4                  -0.092515                     0.375   \n\n   remote_access_total_bytes  photo_sharing_total_bytes  \\\n0                   0.352941                  -0.294118   \n1                  -0.294118                  -0.147059   \n2                  -0.117647                   0.500000   \n3                   0.000000                   2.323529   \n4                   4.647059                  -0.147059   \n\n   software_dwnld_total_bytes  marketplace_total_bytes  \\\n0                    0.617647                -0.448276   \n1                   -0.117647                -0.310345   \n2                    0.441176                -0.068966   \n3                   -0.294118                -0.448276   \n4                    0.529412                 1.896552   \n\n   storage_services_total_bytes  audio_total_bytes  \\\n0                     -0.338710           0.620690   \n1                     -0.209677           0.275862   \n2                      0.241935          -0.206897   \n3                     -0.258065           2.206897   \n4                     -0.129032           0.862069   \n\n   location_services_total_bytes  presence_total_bytes  \\\n0                       0.403226              3.344599   \n1                      -0.451613             -0.202329   \n2                      -0.435484              4.524473   \n3                       0.161290             -0.228515   \n4                      13.048387              0.017812   \n\n   advertisement_total_bytes  system_total_bytes  voip_total_bytes  \\\n0                   0.935484           -0.241935         -0.241935   \n1                   0.258065           -0.387097         -0.193548   \n2                  -0.354839            0.161290          1.854839   \n3                  -0.290323           -0.370968          0.064516   \n4                   1.370968            0.193548          3.903226   \n\n   speedtest_total_bytes  email_total_bytes  weather_total_bytes  \\\n0              -0.322581          -0.322581             0.047619   \n1              -0.354839          -0.129032            -0.158730   \n2              -0.112903          -0.258065             0.968254   \n3              -0.435484          -0.322581             0.523810   \n4              -0.419355           0.596774             0.460317   \n\n   media_total_bytes  mms_total_bytes  others_total_bytes  beam_direction  \\\n0           0.262295         0.145161            1.177419       -0.700000   \n1          -0.377049        -0.322581           -0.145161        0.100000   \n2           0.311475         1.887097            2.080645       -0.433333   \n3           0.196721         0.725806            0.080645        0.166667   \n4           1.000000         2.693548            4.612903        0.733333   \n\n   cell_range  tilt  ran_vendor  total_bytes  \n0           6     2           0     1.964124  \n1           7     5           2    -0.396529  \n2           6     3           0     0.765574  \n3           7     2           1    -0.020801  \n4           3     5           1    -0.181540  ",
            "text/html": "<div>\n<style scoped>\n    .dataframe tbody tr th:only-of-type {\n        vertical-align: middle;\n    }\n\n    .dataframe tbody tr th {\n        vertical-align: top;\n    }\n\n    .dataframe thead th {\n        text-align: right;\n    }\n</style>\n<table border=\"1\" class=\"dataframe\">\n  <thead>\n    <tr style=\"text-align: right;\">\n      <th></th>\n      <th>4G_rat</th>\n      <th>subscriber_count</th>\n      <th>web_browsing_total_bytes</th>\n      <th>video_total_bytes</th>\n      <th>social_ntwrking_bytes</th>\n      <th>cloud_computing_total_bytes</th>\n      <th>web_security_total_bytes</th>\n      <th>gaming_total_bytes</th>\n      <th>health_total_bytes</th>\n      <th>communication_total_bytes</th>\n      <th>file_sharing_total_bytes</th>\n      <th>remote_access_total_bytes</th>\n      <th>photo_sharing_total_bytes</th>\n      <th>software_dwnld_total_bytes</th>\n      <th>marketplace_total_bytes</th>\n      <th>storage_services_total_bytes</th>\n      <th>audio_total_bytes</th>\n      <th>location_services_total_bytes</th>\n      <th>presence_total_bytes</th>\n      <th>advertisement_total_bytes</th>\n      <th>system_total_bytes</th>\n      <th>voip_total_bytes</th>\n      <th>speedtest_total_bytes</th>\n      <th>email_total_bytes</th>\n      <th>weather_total_bytes</th>\n      <th>media_total_bytes</th>\n      <th>mms_total_bytes</th>\n      <th>others_total_bytes</th>\n      <th>beam_direction</th>\n      <th>cell_range</th>\n      <th>tilt</th>\n      <th>ran_vendor</th>\n      <th>total_bytes</th>\n    </tr>\n  </thead>\n  <tbody>\n    <tr>\n      <th>0</th>\n      <td>1</td>\n      <td>-0.070423</td>\n      <td>-0.200603</td>\n      <td>8.940787</td>\n      <td>0.089303</td>\n      <td>1.612595</td>\n      <td>1.301587</td>\n      <td>5.870968</td>\n      <td>0.578125</td>\n      <td>2.904192</td>\n      <td>-0.500</td>\n      <td>0.352941</td>\n      <td>-0.294118</td>\n      <td>0.617647</td>\n      <td>-0.448276</td>\n      <td>-0.338710</td>\n      <td>0.620690</td>\n      <td>0.403226</td>\n      <td>3.344599</td>\n      <td>0.935484</td>\n      <td>-0.241935</td>\n      <td>-0.241935</td>\n      <td>-0.322581</td>\n      <td>-0.322581</td>\n      <td>0.047619</td>\n      <td>0.262295</td>\n      <td>0.145161</td>\n      <td>1.177419</td>\n      <td>-0.700000</td>\n      <td>6</td>\n      <td>2</td>\n      <td>0</td>\n      <td>1.964124</td>\n    </tr>\n    <tr>\n      <th>1</th>\n      <td>1</td>\n      <td>-0.267606</td>\n      <td>0.053065</td>\n      <td>-0.208709</td>\n      <td>0.435507</td>\n      <td>-0.240458</td>\n      <td>-0.031746</td>\n      <td>-0.274194</td>\n      <td>-0.312500</td>\n      <td>-0.233234</td>\n      <td>-0.500</td>\n      <td>-0.294118</td>\n      <td>-0.147059</td>\n      <td>-0.117647</td>\n      <td>-0.310345</td>\n      <td>-0.209677</td>\n      <td>0.275862</td>\n      <td>-0.451613</td>\n      <td>-0.202329</td>\n      <td>0.258065</td>\n      <td>-0.387097</td>\n      <td>-0.193548</td>\n      <td>-0.354839</td>\n      <td>-0.129032</td>\n      <td>-0.158730</td>\n      <td>-0.377049</td>\n      <td>-0.322581</td>\n      <td>-0.145161</td>\n      <td>0.100000</td>\n      <td>7</td>\n      <td>5</td>\n      <td>2</td>\n      <td>-0.396529</td>\n    </tr>\n    <tr>\n      <th>2</th>\n      <td>1</td>\n      <td>0.181087</td>\n      <td>-0.107352</td>\n      <td>-0.113437</td>\n      <td>3.375029</td>\n      <td>-0.034351</td>\n      <td>-0.206349</td>\n      <td>-0.403226</td>\n      <td>0.328125</td>\n      <td>0.869461</td>\n      <td>-0.375</td>\n      <td>-0.117647</td>\n      <td>0.500000</td>\n      <td>0.441176</td>\n      <td>-0.068966</td>\n      <td>0.241935</td>\n      <td>-0.206897</td>\n      <td>-0.435484</td>\n      <td>4.524473</td>\n      <td>-0.354839</td>\n      <td>0.161290</td>\n      <td>1.854839</td>\n      <td>-0.112903</td>\n      <td>-0.258065</td>\n      <td>0.968254</td>\n      <td>0.311475</td>\n      <td>1.887097</td>\n      <td>2.080645</td>\n      <td>-0.433333</td>\n      <td>6</td>\n      <td>3</td>\n      <td>0</td>\n      <td>0.765574</td>\n    </tr>\n    <tr>\n      <th>3</th>\n      <td>0</td>\n      <td>-0.273642</td>\n      <td>1.146316</td>\n      <td>-0.183760</td>\n      <td>0.959401</td>\n      <td>-0.234733</td>\n      <td>0.460317</td>\n      <td>-0.193548</td>\n      <td>-0.265625</td>\n      <td>0.359281</td>\n      <td>0.500</td>\n      <td>0.000000</td>\n      <td>2.323529</td>\n      <td>-0.294118</td>\n      <td>-0.448276</td>\n      <td>-0.258065</td>\n      <td>2.206897</td>\n      <td>0.161290</td>\n      <td>-0.228515</td>\n      <td>-0.290323</td>\n      <td>-0.370968</td>\n      <td>0.064516</td>\n      <td>-0.435484</td>\n      <td>-0.322581</td>\n      <td>0.523810</td>\n      <td>0.196721</td>\n      <td>0.725806</td>\n      <td>0.080645</td>\n      <td>0.166667</td>\n      <td>7</td>\n      <td>2</td>\n      <td>1</td>\n      <td>-0.020801</td>\n    </tr>\n    <tr>\n      <th>4</th>\n      <td>1</td>\n      <td>-0.140845</td>\n      <td>0.087789</td>\n      <td>-0.096129</td>\n      <td>0.850524</td>\n      <td>0.082061</td>\n      <td>0.444444</td>\n      <td>0.951613</td>\n      <td>-0.187500</td>\n      <td>-0.092515</td>\n      <td>0.375</td>\n      <td>4.647059</td>\n      <td>-0.147059</td>\n      <td>0.529412</td>\n      <td>1.896552</td>\n      <td>-0.129032</td>\n      <td>0.862069</td>\n      <td>13.048387</td>\n      <td>0.017812</td>\n      <td>1.370968</td>\n      <td>0.193548</td>\n      <td>3.903226</td>\n      <td>-0.419355</td>\n      <td>0.596774</td>\n      <td>0.460317</td>\n      <td>1.000000</td>\n      <td>2.693548</td>\n      <td>4.612903</td>\n      <td>0.733333</td>\n      <td>3</td>\n      <td>5</td>\n      <td>1</td>\n      <td>-0.181540</td>\n    </tr>\n  </tbody>\n</table>\n</div>"
          },
          "metadata": {}
        }
      ]
    },
    {
      "metadata": {
        "trusted": true,
        "_uuid": "11cec21285d9ed9e3a35fff0569f157717a33a75"
      },
      "cell_type": "code",
      "source": "tmp_drop_date_cols_bytes = tmp_drop_date_bytes.columns[2 : -5].values.tolist() + [tmp_drop_date_bytes.columns[-1]]\ntmp_drop_date_cols_bytes",
      "execution_count": 137,
      "outputs": [
        {
          "output_type": "execute_result",
          "execution_count": 137,
          "data": {
            "text/plain": "['web_browsing_total_bytes',\n 'video_total_bytes',\n 'social_ntwrking_bytes',\n 'cloud_computing_total_bytes',\n 'web_security_total_bytes',\n 'gaming_total_bytes',\n 'health_total_bytes',\n 'communication_total_bytes',\n 'file_sharing_total_bytes',\n 'remote_access_total_bytes',\n 'photo_sharing_total_bytes',\n 'software_dwnld_total_bytes',\n 'marketplace_total_bytes',\n 'storage_services_total_bytes',\n 'audio_total_bytes',\n 'location_services_total_bytes',\n 'presence_total_bytes',\n 'advertisement_total_bytes',\n 'system_total_bytes',\n 'voip_total_bytes',\n 'speedtest_total_bytes',\n 'email_total_bytes',\n 'weather_total_bytes',\n 'media_total_bytes',\n 'mms_total_bytes',\n 'others_total_bytes',\n 'total_bytes']"
          },
          "metadata": {}
        }
      ]
    },
    {
      "metadata": {
        "trusted": true,
        "_uuid": "605771c23fd13c6522d0418b2d131f8f5e17aed6"
      },
      "cell_type": "code",
      "source": "pca = PCA(n_components = 20)\nX_tmp_bytes = pca.fit_transform(tmp_bytes.loc[:, tmp_cols_bytes].values)",
      "execution_count": 138,
      "outputs": []
    },
    {
      "metadata": {
        "trusted": true,
        "_uuid": "632316351b571fe31a0a11e9a3658bed756b5d08"
      },
      "cell_type": "code",
      "source": "pca.explained_variance_ratio_.sum()",
      "execution_count": 139,
      "outputs": [
        {
          "output_type": "execute_result",
          "execution_count": 139,
          "data": {
            "text/plain": "0.8778890662735208"
          },
          "metadata": {}
        }
      ]
    },
    {
      "metadata": {
        "trusted": true,
        "_uuid": "e859496b6dfed57045fca30b4256825f30bba46b"
      },
      "cell_type": "code",
      "source": "pca = PCA(n_components = 20)\nX_tmp_date_bytes = pca.fit_transform(tmp_drop_date_bytes.loc[:, tmp_drop_date_cols_bytes].values)",
      "execution_count": 140,
      "outputs": []
    },
    {
      "metadata": {
        "trusted": true,
        "_uuid": "8f04b39c8afa39a8a23851c9626f00a889c87817"
      },
      "cell_type": "code",
      "source": "pca.explained_variance_ratio_.sum()",
      "execution_count": 141,
      "outputs": [
        {
          "output_type": "execute_result",
          "execution_count": 141,
          "data": {
            "text/plain": "0.8778890662735216"
          },
          "metadata": {}
        }
      ]
    },
    {
      "metadata": {
        "trusted": true,
        "_uuid": "1e89894e750c898d48504ae7fcb576af297a1dfa"
      },
      "cell_type": "code",
      "source": "tmp_bytes.drop(columns = tmp_cols_bytes, inplace = True)\ntmp_drop_date_bytes.drop(columns = tmp_drop_date_cols_bytes, inplace = True)",
      "execution_count": 142,
      "outputs": []
    },
    {
      "metadata": {
        "trusted": true,
        "_uuid": "95b22ef7141806df3b908c290fdf7c1ecfb443e0"
      },
      "cell_type": "code",
      "source": "tmp_bytes.head()",
      "execution_count": 143,
      "outputs": [
        {
          "output_type": "execute_result",
          "execution_count": 143,
          "data": {
            "text/plain": "   4G_rat  par_day  par_hour  par_min  subscriber_count  beam_direction  \\\n0       1       15         0       50         -0.070423       -0.700000   \n1       1        7        20        5         -0.267606        0.100000   \n2       1        5        16       35          0.181087       -0.433333   \n3       0       16        21       60         -0.273642        0.166667   \n4       1        4         6       60         -0.140845        0.733333   \n\n   cell_range  tilt  ran_vendor  \n0           6     2           0  \n1           7     5           2  \n2           6     3           0  \n3           7     2           1  \n4           3     5           1  ",
            "text/html": "<div>\n<style scoped>\n    .dataframe tbody tr th:only-of-type {\n        vertical-align: middle;\n    }\n\n    .dataframe tbody tr th {\n        vertical-align: top;\n    }\n\n    .dataframe thead th {\n        text-align: right;\n    }\n</style>\n<table border=\"1\" class=\"dataframe\">\n  <thead>\n    <tr style=\"text-align: right;\">\n      <th></th>\n      <th>4G_rat</th>\n      <th>par_day</th>\n      <th>par_hour</th>\n      <th>par_min</th>\n      <th>subscriber_count</th>\n      <th>beam_direction</th>\n      <th>cell_range</th>\n      <th>tilt</th>\n      <th>ran_vendor</th>\n    </tr>\n  </thead>\n  <tbody>\n    <tr>\n      <th>0</th>\n      <td>1</td>\n      <td>15</td>\n      <td>0</td>\n      <td>50</td>\n      <td>-0.070423</td>\n      <td>-0.700000</td>\n      <td>6</td>\n      <td>2</td>\n      <td>0</td>\n    </tr>\n    <tr>\n      <th>1</th>\n      <td>1</td>\n      <td>7</td>\n      <td>20</td>\n      <td>5</td>\n      <td>-0.267606</td>\n      <td>0.100000</td>\n      <td>7</td>\n      <td>5</td>\n      <td>2</td>\n    </tr>\n    <tr>\n      <th>2</th>\n      <td>1</td>\n      <td>5</td>\n      <td>16</td>\n      <td>35</td>\n      <td>0.181087</td>\n      <td>-0.433333</td>\n      <td>6</td>\n      <td>3</td>\n      <td>0</td>\n    </tr>\n    <tr>\n      <th>3</th>\n      <td>0</td>\n      <td>16</td>\n      <td>21</td>\n      <td>60</td>\n      <td>-0.273642</td>\n      <td>0.166667</td>\n      <td>7</td>\n      <td>2</td>\n      <td>1</td>\n    </tr>\n    <tr>\n      <th>4</th>\n      <td>1</td>\n      <td>4</td>\n      <td>6</td>\n      <td>60</td>\n      <td>-0.140845</td>\n      <td>0.733333</td>\n      <td>3</td>\n      <td>5</td>\n      <td>1</td>\n    </tr>\n  </tbody>\n</table>\n</div>"
          },
          "metadata": {}
        }
      ]
    },
    {
      "metadata": {
        "trusted": true,
        "_uuid": "d364362b96bc50ff7fa45f64194c421af5d1f177"
      },
      "cell_type": "code",
      "source": "tmp_drop_date_bytes.head()",
      "execution_count": 144,
      "outputs": [
        {
          "output_type": "execute_result",
          "execution_count": 144,
          "data": {
            "text/plain": "   4G_rat  subscriber_count  beam_direction  cell_range  tilt  ran_vendor\n0       1         -0.070423       -0.700000           6     2           0\n1       1         -0.267606        0.100000           7     5           2\n2       1          0.181087       -0.433333           6     3           0\n3       0         -0.273642        0.166667           7     2           1\n4       1         -0.140845        0.733333           3     5           1",
            "text/html": "<div>\n<style scoped>\n    .dataframe tbody tr th:only-of-type {\n        vertical-align: middle;\n    }\n\n    .dataframe tbody tr th {\n        vertical-align: top;\n    }\n\n    .dataframe thead th {\n        text-align: right;\n    }\n</style>\n<table border=\"1\" class=\"dataframe\">\n  <thead>\n    <tr style=\"text-align: right;\">\n      <th></th>\n      <th>4G_rat</th>\n      <th>subscriber_count</th>\n      <th>beam_direction</th>\n      <th>cell_range</th>\n      <th>tilt</th>\n      <th>ran_vendor</th>\n    </tr>\n  </thead>\n  <tbody>\n    <tr>\n      <th>0</th>\n      <td>1</td>\n      <td>-0.070423</td>\n      <td>-0.700000</td>\n      <td>6</td>\n      <td>2</td>\n      <td>0</td>\n    </tr>\n    <tr>\n      <th>1</th>\n      <td>1</td>\n      <td>-0.267606</td>\n      <td>0.100000</td>\n      <td>7</td>\n      <td>5</td>\n      <td>2</td>\n    </tr>\n    <tr>\n      <th>2</th>\n      <td>1</td>\n      <td>0.181087</td>\n      <td>-0.433333</td>\n      <td>6</td>\n      <td>3</td>\n      <td>0</td>\n    </tr>\n    <tr>\n      <th>3</th>\n      <td>0</td>\n      <td>-0.273642</td>\n      <td>0.166667</td>\n      <td>7</td>\n      <td>2</td>\n      <td>1</td>\n    </tr>\n    <tr>\n      <th>4</th>\n      <td>1</td>\n      <td>-0.140845</td>\n      <td>0.733333</td>\n      <td>3</td>\n      <td>5</td>\n      <td>1</td>\n    </tr>\n  </tbody>\n</table>\n</div>"
          },
          "metadata": {}
        }
      ]
    },
    {
      "metadata": {
        "trusted": true,
        "_uuid": "9400e70d09159e839a842a20e1b6b472125fe61e"
      },
      "cell_type": "code",
      "source": "X = np.concatenate((tmp_bytes.values, X_tmp_bytes), axis = 1)",
      "execution_count": 145,
      "outputs": []
    },
    {
      "metadata": {
        "trusted": true,
        "_uuid": "0fbd07ace79dabc0958bd42bca48f65d3d1bd00f"
      },
      "cell_type": "code",
      "source": "X_date = np.concatenate((tmp_drop_date_bytes.values, X_tmp_date_bytes), axis = 1)",
      "execution_count": 146,
      "outputs": []
    },
    {
      "metadata": {
        "trusted": true,
        "_uuid": "a81ca06220a4f564c612c1e74c10a595617e7f92"
      },
      "cell_type": "code",
      "source": "y = lb.transform(train_df['Congestion_Type'])\ny",
      "execution_count": 147,
      "outputs": [
        {
          "output_type": "execute_result",
          "execution_count": 147,
          "data": {
            "text/plain": "array([1, 3, 0, ..., 1, 0, 3])"
          },
          "metadata": {}
        }
      ]
    },
    {
      "metadata": {
        "trusted": true,
        "_uuid": "4d7457246505262204904f7c267d6ad52aa0a469"
      },
      "cell_type": "code",
      "source": "X.shape, X_date.shape, y.shape",
      "execution_count": 148,
      "outputs": [
        {
          "output_type": "execute_result",
          "execution_count": 148,
          "data": {
            "text/plain": "((78560, 29), (78560, 26), (78560,))"
          },
          "metadata": {}
        }
      ]
    },
    {
      "metadata": {
        "trusted": true,
        "_uuid": "0f220da6af8d4b72d5622223a8a1b699437ee352"
      },
      "cell_type": "code",
      "source": "x_train, x_valid, y_train, y_valid = train_test_split(X, y, test_size = 0.2, random_state = 4242, stratify = y)\nx_date_train, x_date_valid, y_train, y_valid = train_test_split(X_date, y, test_size = 0.2, random_state = 2424, stratify = y)",
      "execution_count": 149,
      "outputs": []
    },
    {
      "metadata": {
        "trusted": true,
        "_uuid": "2ea57a0ee2b404688706124f3e4fd36468d5ad13"
      },
      "cell_type": "code",
      "source": "target_names = lb.classes_\ntarget_names",
      "execution_count": 150,
      "outputs": [
        {
          "output_type": "execute_result",
          "execution_count": 150,
          "data": {
            "text/plain": "array(['3G_BACKHAUL_CONGESTION', '4G_BACKHAUL_CONGESTION',\n       '4G_RAN_CONGESTION', 'NC'], dtype=object)"
          },
          "metadata": {}
        }
      ]
    },
    {
      "metadata": {
        "trusted": true,
        "_uuid": "82dd04c917961232c8935460f446720d69b21e19"
      },
      "cell_type": "code",
      "source": "results = []\nfor clf, name in (\n        (LogisticRegression(C = 2.0, tol = 1e-5, random_state = 420, solver = 'lbfgs', multi_class = 'multinomial', max_iter = 1000), \"LR_LBFGS\"),\n        (LogisticRegression(C = 2.0, tol = 1e-5, random_state = 420, solver = 'saga', multi_class = 'multinomial', max_iter = 1000, penalty = 'l1'), \"LR_SAGA\"),\n        (LogisticRegression(C = 2.0, tol = 1e-5, random_state = 420, solver = 'newton-cg', multi_class = 'multinomial', max_iter = 1000), \"LR_NEWTON-CG\"),\n        (SVC(gamma = 'auto'), \"SVC\"),\n        (GaussianNB(), \"NB\"),\n        (DecisionTreeClassifier(random_state=0), \"Decision\"),\n        (RandomForestClassifier(n_estimators=100,max_depth=2,random_state=0, n_jobs = -1), \"Random forest\")):\n    print('=' * 80)\n    print(name)\n    results.append(benchmark(clf,name,x_date_train, x_date_valid))\n",
      "execution_count": null,
      "outputs": []
    },
    {
      "metadata": {
        "trusted": true,
        "_uuid": "cc5cef4a247227e4223f5cf2f3047013bca23912"
      },
      "cell_type": "code",
      "source": "results = []\nfor clf, name in (\n        (LogisticRegression(C = 2.0, tol = 1e-5, random_state = 420, solver = 'lbfgs', multi_class = 'multinomial', max_iter = 1000), \"LR_LBFGS\"),\n        (LogisticRegression(C = 2.0, tol = 1e-5, random_state = 420, solver = 'saga', multi_class = 'multinomial', max_iter = 1000, penalty = 'l1'), \"LR_SAGA\"),\n        (LogisticRegression(C = 2.0, tol = 1e-5, random_state = 420, solver = 'newton-cg', multi_class = 'multinomial', max_iter = 1000), \"LR_NEWTON-CG\"),\n        (SVC(gamma = 'auto'), \"SVC\"),\n        (RidgeClassifier(tol=1e-2, solver=\"lsqr\", max_iter=300), \"Ridge Classifier\"),\n        (Perceptron(max_iter=300, tol=1e-3, n_jobs=-1), \"Perceptron\"),\n        (PassiveAggressiveClassifier(max_iter=2000, tol=1e-5, n_jobs=-1), \"Passive-Aggressive\"),\n        (KNeighborsClassifier(n_neighbors=5, n_jobs=-1), \"kNN\"),\n        (RandomForestClassifier(n_estimators=100, n_jobs = -1), \"Random forest\")):\n    print('=' * 80)\n    print(name)\n    results.append(benchmark(clf,name,x_date_train, x_date_valid))\n\nfor penalty in [\"l2\", \"l1\"]:\n    print('=' * 80)\n    print(\"%s penalty\" % penalty.upper())\n    # Train Liblinear model\n    results.append(benchmark(LinearSVC(penalty=penalty, dual=False,max_iter=3000,\n                                       tol=1e-4),'LinearSVC',x_date_train, x_date_valid))\n\n    # Train SGD model\n    results.append(benchmark(SGDClassifier(alpha=.0001, max_iter=2000, tol=1e-4,\n                                           penalty=penalty),'SGDClassifer_'+penalty,x_date_train, x_date_valid))\n\n# Train SGD with Elastic Net penalty\nprint('=' * 80)\nprint(\"Elastic-Net penalty\")\nresults.append(benchmark(SGDClassifier(alpha=.0001, max_iter=1000, tol=1e-4,\n                                       penalty=\"elasticnet\"),'SGDClassifer_elasticnet',x_date_train, x_date_valid))\n\nprint('=' * 80)\nprint(\"LinearSVC with L1-based feature selection\")\n# The smaller C, the stronger the regularization.\n# The more regularization, the more sparsity.\nresults.append(benchmark(Pipeline([\n  ('feature_selection', SelectFromModel(LinearSVC(penalty=\"l1\", dual=False, max_iter = 3000,\n                                                  tol=1e-4, ))),\n  ('classification', LinearSVC(penalty=\"l2\", class_weight = 'balanced'))]),'pipeline',x_date_train, x_date_valid))",
      "execution_count": null,
      "outputs": []
    },
    {
      "metadata": {
        "_uuid": "64309d611b771e3ffb5414242b66877d876d55ee"
      },
      "cell_type": "markdown",
      "source": "## Breaking the label into 3 parts"
    },
    {
      "metadata": {
        "trusted": true,
        "_uuid": "af6fed5a5f953903af6fa43b95be57f711a5d7b6"
      },
      "cell_type": "code",
      "source": "byte_cols = train_df.columns[8:34]",
      "execution_count": null,
      "outputs": []
    },
    {
      "metadata": {
        "trusted": true,
        "_uuid": "2fa8367eb70ad0402b4ff02075ad77d7219fa132"
      },
      "cell_type": "code",
      "source": "total_bytes = train_df.loc[:, byte_cols].apply(sum, axis = 1)",
      "execution_count": null,
      "outputs": []
    },
    {
      "metadata": {
        "trusted": true,
        "_uuid": "f97a7d5d299d56ff3f98685594d7722ac419ad22"
      },
      "cell_type": "code",
      "source": "tmp = train_df.copy(deep = True)",
      "execution_count": null,
      "outputs": []
    },
    {
      "metadata": {
        "trusted": true,
        "_uuid": "02cd4ef8ec5c7dabe2a7ddc23ebae5701fbeab83"
      },
      "cell_type": "code",
      "source": "tmp['total_bytes'] = total_bytes",
      "execution_count": null,
      "outputs": []
    },
    {
      "metadata": {
        "trusted": true,
        "_uuid": "2fa8367eb70ad0402b4ff02075ad77d7219fa132"
      },
      "cell_type": "code",
      "source": "total_bytes = tmp1.loc[:, byte_cols].apply(sum, axis = 1)",
      "execution_count": null,
      "outputs": []
    },
    {
      "metadata": {
        "trusted": true,
        "_uuid": "02cd4ef8ec5c7dabe2a7ddc23ebae5701fbeab83"
      },
      "cell_type": "code",
      "source": "tmp1['total_bytes'] = total_bytes",
      "execution_count": null,
      "outputs": []
    },
    {
      "metadata": {
        "trusted": true,
        "_uuid": "9e10431c5bd2e433890f6521fb38e447900e7881"
      },
      "cell_type": "code",
      "source": "sns.distplot(tmp['total_bytes'].values, fit = norm)\n\n# Get the fitted parameters used by the function\n(mu, sigma) = norm.fit(tmp['total_bytes'].values)\nprint( '\\n mu = {:.2f} and sigma = {:.2f}\\n'.format(mu, sigma))\n\n#Now plot the distribution\nplt.legend(['Normal dist. ($\\mu=$ {:.2f} and $\\sigma=$ {:.2f} )'.format(mu, sigma)], loc = 'best')\nplt.ylabel('Frequency')\nplt.title('Sub Cnt');",
      "execution_count": null,
      "outputs": []
    },
    {
      "metadata": {
        "trusted": true,
        "_uuid": "9e10431c5bd2e433890f6521fb38e447900e7881"
      },
      "cell_type": "code",
      "source": "sns.distplot(tmp1['total_bytes'].values, fit = norm)\n\n# Get the fitted parameters used by the function\n(mu, sigma) = norm.fit(tmp1['total_bytes'].values)\nprint( '\\n mu = {:.2f} and sigma = {:.2f}\\n'.format(mu, sigma))\n\n#Now plot the distribution\nplt.legend(['Normal dist. ($\\mu=$ {:.2f} and $\\sigma=$ {:.2f} )'.format(mu, sigma)], loc = 'best')\nplt.ylabel('Frequency')\nplt.title('Sub Cnt');",
      "execution_count": null,
      "outputs": []
    },
    {
      "metadata": {
        "trusted": true,
        "_uuid": "e47fbbcb18093f5cd3785626a31d303b8f884d4d"
      },
      "cell_type": "code",
      "source": "print(\"Skewness: %f\" % tmp['total_bytes'].skew())\nprint(\"Kurtosis: %f\" % tmp['total_bytes'].kurt())",
      "execution_count": null,
      "outputs": []
    },
    {
      "metadata": {
        "trusted": true,
        "_uuid": "8787e5bad0342e16dd3e31cf33a4adad6c4a6dfb"
      },
      "cell_type": "code",
      "source": "print(\"Skewness: %f\" % tmp['subscriber_count'].skew())\nprint(\"Kurtosis: %f\" % tmp['subscriber_count'].kurt())",
      "execution_count": null,
      "outputs": []
    },
    {
      "metadata": {
        "trusted": true,
        "_uuid": "e47fbbcb18093f5cd3785626a31d303b8f884d4d"
      },
      "cell_type": "code",
      "source": "print(\"Skewness: %f\" % tmp1['total_bytes'].skew())\nprint(\"Kurtosis: %f\" % tmp1['total_bytes'].kurt())",
      "execution_count": null,
      "outputs": []
    },
    {
      "metadata": {
        "trusted": true,
        "_uuid": "8787e5bad0342e16dd3e31cf33a4adad6c4a6dfb"
      },
      "cell_type": "code",
      "source": "print(\"Skewness: %f\" % tmp1['subscriber_count'].skew())\nprint(\"Kurtosis: %f\" % tmp1['subscriber_count'].kurt())",
      "execution_count": null,
      "outputs": []
    },
    {
      "metadata": {
        "trusted": true,
        "_uuid": "a7e1f4b61abcd29a839f2f08abf11ee726853a31"
      },
      "cell_type": "code",
      "source": "ax = sns.boxplot(x = target_name, y = 'subscriber_count', data = tmp, order = tmp[target_name].value_counts().sort_values(ascending = False).index)\nax.set_xticklabels(tmp[target_name].value_counts().sort_values(ascending = False).index, rotation = 90);",
      "execution_count": null,
      "outputs": []
    },
    {
      "metadata": {
        "trusted": true,
        "_uuid": "46e7ce2fc2deaf4761d1e134966534eb1077ce9f"
      },
      "cell_type": "code",
      "source": "tmp[tmp.loc[:, target_name] == 'NC']['subscriber_count'].max()",
      "execution_count": null,
      "outputs": []
    },
    {
      "metadata": {
        "trusted": true,
        "_uuid": "5a7c04bf039546dc6f12222abbd9333f49772ea0"
      },
      "cell_type": "code",
      "source": "tmp[tmp.loc[:, target_name] == '4G_BACKHAUL_CONGESTION']['subscriber_count'].max()",
      "execution_count": null,
      "outputs": []
    },
    {
      "metadata": {
        "trusted": true,
        "_uuid": "c004056397b57687ff0214ea3dd91a5e997feaac"
      },
      "cell_type": "code",
      "source": "x = tmp[tmp.loc[:, target_name] == 'NC']\nx[x.loc[:, 'subscriber_count'] < 4000]['total_bytes'].max()",
      "execution_count": null,
      "outputs": []
    },
    {
      "metadata": {
        "trusted": true,
        "_uuid": "dbfe711e061bb69ff87820a29132852c212f2a2d"
      },
      "cell_type": "code",
      "source": "x = tmp[tmp.loc[:, target_name] == 'NC']\nx[x.loc[:, 'total_bytes'] < 12000]['subscriber_count'].max()",
      "execution_count": null,
      "outputs": []
    },
    {
      "metadata": {
        "trusted": true,
        "_uuid": "a7e1f4b61abcd29a839f2f08abf11ee726853a31"
      },
      "cell_type": "code",
      "source": "ax = sns.boxplot(x = target_name, y = 'subscriber_count', data = tmp1, order = tmp1[target_name].value_counts().sort_values(ascending = False).index)\nax.set_xticklabels(tmp1[target_name].value_counts().sort_values(ascending = False).index, rotation = 90);",
      "execution_count": null,
      "outputs": []
    },
    {
      "metadata": {
        "trusted": true,
        "_uuid": "46e7ce2fc2deaf4761d1e134966534eb1077ce9f"
      },
      "cell_type": "code",
      "source": "tmp1[tmp1.loc[:, target_name] == 'NC']['subscriber_count'].max()",
      "execution_count": null,
      "outputs": []
    },
    {
      "metadata": {
        "trusted": true,
        "_uuid": "5a7c04bf039546dc6f12222abbd9333f49772ea0"
      },
      "cell_type": "code",
      "source": "tmp1[tmp1.loc[:, target_name] == '4G_BACKHAUL_CONGESTION']['subscriber_count'].max()",
      "execution_count": null,
      "outputs": []
    },
    {
      "metadata": {
        "trusted": true,
        "_uuid": "93da2fbdf44986aebc09c991221458f0bea9915b"
      },
      "cell_type": "code",
      "source": "y = 'total_bytes'",
      "execution_count": null,
      "outputs": []
    },
    {
      "metadata": {
        "trusted": true,
        "_uuid": "ef34ab58885e08cf28a07e99fe40696fcb1eaf0e"
      },
      "cell_type": "code",
      "source": "ax = sns.boxplot(x = target_name, y = y, data = tmp, order = tmp[target_name].value_counts().sort_values(ascending = False).index)\nax.set_xticklabels(tmp[target_name].value_counts().sort_values(ascending = False).index, rotation = 90);",
      "execution_count": null,
      "outputs": []
    },
    {
      "metadata": {
        "trusted": true,
        "_uuid": "d71bb61e5c131d387ec625b1d1893bd611acd9bc"
      },
      "cell_type": "code",
      "source": "tmp[tmp.loc[:, target_name] == 'NC'][y].max()",
      "execution_count": null,
      "outputs": []
    },
    {
      "metadata": {
        "trusted": true,
        "_uuid": "9fe7b432fbf512adbf11e748f658894f89c94c5e"
      },
      "cell_type": "code",
      "source": "tmp[tmp.loc[:, target_name] == '4G_BACKHAUL_CONGESTION'][y].max()",
      "execution_count": null,
      "outputs": []
    },
    {
      "metadata": {
        "trusted": true,
        "_uuid": "ef34ab58885e08cf28a07e99fe40696fcb1eaf0e"
      },
      "cell_type": "code",
      "source": "ax = sns.boxplot(x = target_name, y = y, data = tmp1, order = tmp1[target_name].value_counts().sort_values(ascending = False).index)\nax.set_xticklabels(tmp1[target_name].value_counts().sort_values(ascending = False).index, rotation = 90);",
      "execution_count": null,
      "outputs": []
    },
    {
      "metadata": {
        "trusted": true,
        "_uuid": "d71bb61e5c131d387ec625b1d1893bd611acd9bc"
      },
      "cell_type": "code",
      "source": "tmp1[tmp1.loc[:, target_name] == 'NC'][y].max()",
      "execution_count": null,
      "outputs": []
    },
    {
      "metadata": {
        "trusted": true,
        "_uuid": "9fe7b432fbf512adbf11e748f658894f89c94c5e"
      },
      "cell_type": "code",
      "source": "tmp1[tmp1.loc[:, target_name] == '4G_BACKHAUL_CONGESTION'][y].max()",
      "execution_count": null,
      "outputs": []
    },
    {
      "metadata": {
        "trusted": true,
        "_uuid": "ab45fa3ea3a2df182946c368cb7d0368afcae6ef"
      },
      "cell_type": "code",
      "source": "",
      "execution_count": null,
      "outputs": []
    },
    {
      "metadata": {
        "_uuid": "7be66a37ba0aef91b3396c0ef53bacda4fd69bd5"
      },
      "cell_type": "markdown",
      "source": "### NOTE\n- SC >= 4000, Total Bytes >= 12000 :: Congestion (3)"
    },
    {
      "metadata": {
        "trusted": true,
        "_uuid": "2db75b82cf35f11b067ed1cb447aabbc21c0a85a"
      },
      "cell_type": "code",
      "source": "all_df = tmp[tmp.loc[:, ['subscriber_count', 'total_bytes']].apply(lambda x : x['subscriber_count'] < 3000 and x['total_bytes'] < 110000, axis = 1)]",
      "execution_count": null,
      "outputs": []
    },
    {
      "metadata": {
        "trusted": true,
        "_uuid": "7acd93a9e09654e4332266f521541dd399900438"
      },
      "cell_type": "code",
      "source": "all_df.__len__()",
      "execution_count": null,
      "outputs": []
    },
    {
      "metadata": {
        "trusted": true,
        "_uuid": "fdd25b0fa9449cb6b03e21f8cefcaa3c0bdac5ca"
      },
      "cell_type": "code",
      "source": "all_df.reset_index(drop = True, inplace = True)",
      "execution_count": null,
      "outputs": []
    },
    {
      "metadata": {
        "trusted": true,
        "_uuid": "95da1df95a747543b1fee98a40a4c9802b09851e"
      },
      "cell_type": "code",
      "source": "len(tmp[tmp.loc[:, 'subscriber_count'] < 4000])",
      "execution_count": null,
      "outputs": []
    },
    {
      "metadata": {
        "trusted": true,
        "_uuid": "ed6df44ec84df853cee3dcb465b914683da358c6"
      },
      "cell_type": "code",
      "source": "len(tmp[tmp.loc[:, 'total_bytes'] < 120000])",
      "execution_count": null,
      "outputs": []
    },
    {
      "metadata": {
        "trusted": true,
        "_uuid": "27cceb1855bdf1f041a974683c9b56a2374d4e85"
      },
      "cell_type": "code",
      "source": "assert(all_df[all_df.loc[:, target_name] == 'NC'].__len__() == train_df[train_df.loc[:, target_name] == 'NC'].__len__())",
      "execution_count": null,
      "outputs": []
    },
    {
      "metadata": {
        "trusted": true,
        "_uuid": "0cdfb810498674e6d467861036a79ccca44f239c"
      },
      "cell_type": "code",
      "source": "three_df = tmp[tmp.loc[:, ['subscriber_count', 'total_bytes']].apply(lambda x : x['subscriber_count'] >= 3000 or x['total_bytes'] >= 110000, axis = 1)]",
      "execution_count": null,
      "outputs": []
    },
    {
      "metadata": {
        "trusted": true,
        "_uuid": "a76fcef6388c2149bdb3acf4c01f9e3102e3117a"
      },
      "cell_type": "code",
      "source": "assert(three_df[three_df.loc[:, target_name] != 'NC'].__len__() == three_df[three_df.loc[:, target_name] != 'NC'].__len__())",
      "execution_count": null,
      "outputs": []
    },
    {
      "metadata": {
        "trusted": true,
        "_uuid": "be39a474ec71e8a662ebd8de63d87203de1c9b4b"
      },
      "cell_type": "code",
      "source": "fig = plt.figure(figsize = (6, 6))\ntotal = all_df.shape[0]\nax = sns.countplot(x = target_name, data = all_df, order = all_df[target_name].value_counts().sort_values(ascending = False).index)\nax.set_xticklabels(all_df[target_name].value_counts().sort_values(ascending = False).index, rotation = 90)\nfor p in ax.patches:\n    ax.annotate('{:.2f}%'.format(p.get_height() * 100 / total), (p.get_x() + 0.1, p.get_height() + 15))",
      "execution_count": null,
      "outputs": []
    },
    {
      "metadata": {
        "trusted": true,
        "_uuid": "b368116184c3513127c2bd461e54f2a3723ef759"
      },
      "cell_type": "code",
      "source": "all_df['labels'] = all_df[target_name].apply(lambda x : 0 if x == 'NC' else 1)",
      "execution_count": null,
      "outputs": []
    },
    {
      "metadata": {
        "trusted": true,
        "_uuid": "be39a474ec71e8a662ebd8de63d87203de1c9b4b"
      },
      "cell_type": "code",
      "source": "fig = plt.figure(figsize = (6, 6))\ntotal = all_df.shape[0]\nax = sns.countplot(x = 'labels', data = all_df, order = all_df['labels'].value_counts().sort_values(ascending = False).index)\nfor p in ax.patches:\n    ax.annotate('{:.2f}%'.format(p.get_height() * 100 / total), (p.get_x() + 0.3, p.get_height() + 15))",
      "execution_count": null,
      "outputs": []
    },
    {
      "metadata": {
        "trusted": true,
        "_uuid": "84d39fc52acf398a4229f750c29e78732d096dbf"
      },
      "cell_type": "code",
      "source": "bin_df = all_df.drop(columns = ['cell_name', 'par_year', 'par_month', 'par_day', 'par_hour', 'par_min', 'Congestion_Type'])\nbin_df.head()",
      "execution_count": null,
      "outputs": []
    },
    {
      "metadata": {
        "trusted": true,
        "_uuid": "4de33e687a6f62a5951a136da56229128f664e8b"
      },
      "cell_type": "code",
      "source": "from sklearn.preprocessing import LabelEncoder",
      "execution_count": null,
      "outputs": []
    },
    {
      "metadata": {
        "trusted": true,
        "_uuid": "4f06a660c72e42673d11c885029adfac3fb30f44"
      },
      "cell_type": "code",
      "source": "def label_encode(df, col):\n    lb = LabelEncoder()\n    df[col] = lb.fit_transform(df[col])\n    return lb",
      "execution_count": null,
      "outputs": []
    },
    {
      "metadata": {
        "trusted": true,
        "_uuid": "649c79e9c84e3f6cf7adf5684e2980c251a9feb5"
      },
      "cell_type": "code",
      "source": "label_encode(bin_df, 'ran_vendor');",
      "execution_count": null,
      "outputs": []
    },
    {
      "metadata": {
        "trusted": true,
        "_uuid": "b3f72590656a7f34aa0d1706503df017e1edbca0"
      },
      "cell_type": "code",
      "source": "for col in bin_df.columns:\n    normalize_col(3, bin_df, col)",
      "execution_count": null,
      "outputs": []
    },
    {
      "metadata": {
        "trusted": true,
        "_uuid": "da335822881e7d6413882a634871eb69c5ce8e04"
      },
      "cell_type": "code",
      "source": "X = bin_df.drop(columns = 'labels').values\ny = bin_df['labels']",
      "execution_count": null,
      "outputs": []
    },
    {
      "metadata": {
        "trusted": true,
        "_uuid": "0f220da6af8d4b72d5622223a8a1b699437ee352"
      },
      "cell_type": "code",
      "source": "x_train, x_valid, y_train, y_valid = train_test_split(X, y, test_size = 0.2, random_state = 4242, stratify = y)",
      "execution_count": null,
      "outputs": []
    },
    {
      "metadata": {
        "trusted": true,
        "_uuid": "2ea57a0ee2b404688706124f3e4fd36468d5ad13"
      },
      "cell_type": "code",
      "source": "target_names = ['NC', 'CONGESTION']",
      "execution_count": null,
      "outputs": []
    },
    {
      "metadata": {
        "trusted": true,
        "_uuid": "cc5cef4a247227e4223f5cf2f3047013bca23912"
      },
      "cell_type": "code",
      "source": "results = []\nfor clf, name in (\n        (LogisticRegression(C = 2.0, tol = 1e-5, random_state = 420, solver = 'lbfgs', multi_class = 'multinomial', max_iter = 1000, class_weight='balanced'), \"LR_LBFGS\"),\n        (LogisticRegression(C = 2.0, tol = 1e-5, random_state = 420, solver = 'saga', multi_class = 'multinomial', max_iter = 1000, penalty = 'l1',class_weight='balanced'), \"LR_SAGA\"),\n        (LogisticRegression(C = 2.0, tol = 1e-5, random_state = 420, solver = 'newton-cg', multi_class = 'multinomial', max_iter = 1000,class_weight='balanced'), \"LR_NEWTON-CG\"),\n        (SVC(gamma = 'scale',class_weight='balanced'), \"SVC\"),\n        (RidgeClassifier(tol=1e-2, solver=\"lsqr\", max_iter=300,class_weight='balanced'), \"Ridge Classifier\"),\n        (Perceptron(max_iter=300, tol=1e-3, n_jobs=-1,class_weight='balanced'), \"Perceptron\"),\n        (PassiveAggressiveClassifier(max_iter=2000, tol=1e-5, n_jobs=-1, class_weight='balanced'), \"Passive-Aggressive\"),\n        (KNeighborsClassifier(n_neighbors=5, n_jobs=-1, weights='distance'), \"kNN\"),\n        (RandomForestClassifier(n_estimators=100, n_jobs = -1,class_weight='balanced'), \"Random forest\")):\n    print('=' * 80)\n    print(name)\n    results.append(benchmark(clf,name,x_train, x_valid))\n\nfor penalty in [\"l2\", \"l1\"]:\n    print('=' * 80)\n    print(\"%s penalty\" % penalty.upper())\n    # Train Liblinear model\n    results.append(benchmark(LinearSVC(penalty=penalty, dual=False,max_iter=3000,class_weight='balanced',\n                                       tol=1e-4),'LinearSVC',x_train, x_valid))\n\n    # Train SGD model\n    results.append(benchmark(SGDClassifier(alpha=.0001, max_iter=2000, tol=1e-4,class_weight='balanced',\n                                           penalty=penalty),'SGDClassifer_'+penalty,x_train, x_valid))\n\n# Train SGD with Elastic Net penalty\nprint('=' * 80)\nprint(\"Elastic-Net penalty\")\nresults.append(benchmark(SGDClassifier(alpha=.0001, max_iter=1000, tol=1e-4,class_weight='balanced',\n                                       penalty=\"elasticnet\"),'SGDClassifer_elasticnet',x_train, x_valid))\n\nprint('=' * 80)\nprint(\"LinearSVC with L1-based feature selection\")\n# The smaller C, the stronger the regularization.\n# The more regularization, the more sparsity.\nresults.append(benchmark(Pipeline([\n  ('feature_selection', SelectFromModel(LinearSVC(penalty=\"l1\", dual=False, max_iter = 3000,class_weight='balanced',\n                                                  tol=1e-4, ))),\n  ('classification', LinearSVC(penalty=\"l2\", class_weight = 'balanced'))]),'pipeline',x_train, x_valid))",
      "execution_count": null,
      "outputs": []
    },
    {
      "metadata": {
        "trusted": true,
        "_uuid": "3977e810606dc09513bfe76f10d9a9e36e4c9095"
      },
      "cell_type": "code",
      "source": "mul_df = all_df.drop(columns = ['cell_name', 'par_year', 'par_month', 'par_day', 'par_hour', 'par_min'])",
      "execution_count": null,
      "outputs": []
    },
    {
      "metadata": {
        "trusted": true,
        "_uuid": "649c79e9c84e3f6cf7adf5684e2980c251a9feb5"
      },
      "cell_type": "code",
      "source": "label_encode(mul_df, 'ran_vendor');",
      "execution_count": null,
      "outputs": []
    },
    {
      "metadata": {
        "trusted": true,
        "_uuid": "649c79e9c84e3f6cf7adf5684e2980c251a9feb5"
      },
      "cell_type": "code",
      "source": "lb = label_encode(mul_df, 'Congestion_Type')",
      "execution_count": null,
      "outputs": []
    },
    {
      "metadata": {
        "trusted": true,
        "_uuid": "8384fe20b3618d8e073579096e7143dd65e2e104"
      },
      "cell_type": "code",
      "source": "X = mul_df.drop(columns = 'Congestion_Type')\ny = mul_df['Congestion_Type'].values",
      "execution_count": null,
      "outputs": []
    },
    {
      "metadata": {
        "trusted": true,
        "_uuid": "b3f72590656a7f34aa0d1706503df017e1edbca0"
      },
      "cell_type": "code",
      "source": "for col in X.columns:\n    normalize_col(3, X, col)",
      "execution_count": null,
      "outputs": []
    },
    {
      "metadata": {
        "trusted": true,
        "_uuid": "da335822881e7d6413882a634871eb69c5ce8e04"
      },
      "cell_type": "code",
      "source": "X = X.values",
      "execution_count": null,
      "outputs": []
    },
    {
      "metadata": {
        "trusted": true,
        "_uuid": "0f220da6af8d4b72d5622223a8a1b699437ee352"
      },
      "cell_type": "code",
      "source": "x_train, x_valid, y_train, y_valid = train_test_split(X, y, test_size = 0.2, random_state = 4242, stratify = y)",
      "execution_count": null,
      "outputs": []
    },
    {
      "metadata": {
        "trusted": true,
        "_uuid": "2ea57a0ee2b404688706124f3e4fd36468d5ad13"
      },
      "cell_type": "code",
      "source": "target_names = lb.classes_\ntarget_names",
      "execution_count": null,
      "outputs": []
    },
    {
      "metadata": {
        "trusted": true,
        "_uuid": "cc5cef4a247227e4223f5cf2f3047013bca23912"
      },
      "cell_type": "code",
      "source": "results = []\nfor clf, name in (\n        (LogisticRegression(C = 2.0, tol = 1e-5, random_state = 420, solver = 'lbfgs', multi_class = 'multinomial', max_iter = 1000, class_weight='balanced'), \"LR_LBFGS\"),\n        (LogisticRegression(C = 2.0, tol = 1e-5, random_state = 420, solver = 'saga', multi_class = 'multinomial', max_iter = 1000, penalty = 'l1',class_weight='balanced'), \"LR_SAGA\"),\n        (LogisticRegression(C = 2.0, tol = 1e-5, random_state = 420, solver = 'newton-cg', multi_class = 'multinomial', max_iter = 1000,class_weight='balanced'), \"LR_NEWTON-CG\"),\n        (SVC(gamma = 'scale',class_weight='balanced'), \"SVC\"),\n        (RidgeClassifier(tol=1e-2, solver=\"lsqr\", max_iter=300,class_weight='balanced'), \"Ridge Classifier\"),\n        (Perceptron(max_iter=300, tol=1e-3, n_jobs=-1,class_weight='balanced'), \"Perceptron\"),\n        (PassiveAggressiveClassifier(max_iter=2000, tol=1e-5, n_jobs=-1, class_weight='balanced'), \"Passive-Aggressive\"),\n        (KNeighborsClassifier(n_neighbors=5, n_jobs=-1, weights='distance'), \"kNN\"),\n        (RandomForestClassifier(n_estimators=100, n_jobs = -1,class_weight='balanced'), \"Random forest\")):\n    print('=' * 80)\n    print(name)\n    results.append(benchmark(clf,name,x_train, x_valid))\n\nfor penalty in [\"l2\", \"l1\"]:\n    print('=' * 80)\n    print(\"%s penalty\" % penalty.upper())\n    # Train Liblinear model\n    results.append(benchmark(LinearSVC(penalty=penalty, dual=False,max_iter=3000,class_weight='balanced',\n                                       tol=1e-4),'LinearSVC',x_train, x_valid))\n\n    # Train SGD model\n    results.append(benchmark(SGDClassifier(alpha=.0001, max_iter=2000, tol=1e-4,class_weight='balanced',\n                                           penalty=penalty),'SGDClassifer_'+penalty,x_train, x_valid))\n\n# Train SGD with Elastic Net penalty\nprint('=' * 80)\nprint(\"Elastic-Net penalty\")\nresults.append(benchmark(SGDClassifier(alpha=.0001, max_iter=1000, tol=1e-4,class_weight='balanced',\n                                       penalty=\"elasticnet\"),'SGDClassifer_elasticnet',x_train, x_valid))\n\nprint('=' * 80)\nprint(\"LinearSVC with L1-based feature selection\")\n# The smaller C, the stronger the regularization.\n# The more regularization, the more sparsity.\nresults.append(benchmark(Pipeline([\n  ('feature_selection', SelectFromModel(LinearSVC(penalty=\"l1\", dual=False, max_iter = 3000,class_weight='balanced',\n                                                  tol=1e-4, ))),\n  ('classification', LinearSVC(penalty=\"l2\", class_weight = 'balanced'))]),'pipeline',x_train, x_valid))",
      "execution_count": null,
      "outputs": []
    },
    {
      "metadata": {
        "trusted": true,
        "_uuid": "561ad56eac5359cf9a8f1960498b32e3c7d6e1d5"
      },
      "cell_type": "code",
      "source": "",
      "execution_count": null,
      "outputs": []
    },
    {
      "metadata": {
        "trusted": true,
        "_uuid": "54732eae19d1ec4a2a8500c5d224ab23ce072ecb"
      },
      "cell_type": "code",
      "source": "",
      "execution_count": null,
      "outputs": []
    },
    {
      "metadata": {
        "_uuid": "15a95696c5c8bce9d25eea5a0f0e2df3f3e2b61c"
      },
      "cell_type": "markdown",
      "source": "## Going to add the binary labels predicted as col and predict 4 classes"
    },
    {
      "metadata": {
        "trusted": true,
        "_uuid": "6103f876bec281155d404d8f77e620153ce1fc5b"
      },
      "cell_type": "code",
      "source": "",
      "execution_count": null,
      "outputs": []
    },
    {
      "metadata": {
        "trusted": true,
        "_uuid": "be39a474ec71e8a662ebd8de63d87203de1c9b4b"
      },
      "cell_type": "code",
      "source": "fig = plt.figure(figsize = (6, 6))\ntotal = three_df.shape[0]\nax = sns.countplot(x = target_name, data = three_df, order = three_df[target_name].value_counts().sort_values(ascending = False).index)\nax.set_xticklabels(three_df[target_name].value_counts().sort_values(ascending = False).index, rotation = 90)\nfor p in ax.patches:\n    ax.annotate('{:.2f}%'.format(p.get_height() * 100 / total), (p.get_x() + 0.1, p.get_height() + 15))",
      "execution_count": null,
      "outputs": []
    },
    {
      "metadata": {
        "trusted": true,
        "_uuid": "28c8067e04ebdfe37d348168a131f3a82c913bf3"
      },
      "cell_type": "code",
      "source": "",
      "execution_count": null,
      "outputs": []
    },
    {
      "metadata": {
        "trusted": true,
        "_uuid": "5cf48a806f2481d37fc8c4c264cd2027884e6cb6"
      },
      "cell_type": "code",
      "source": "",
      "execution_count": null,
      "outputs": []
    },
    {
      "metadata": {
        "trusted": true,
        "_uuid": "6ab16c691951ef4175a41379b4000b140da1d32d"
      },
      "cell_type": "code",
      "source": "",
      "execution_count": null,
      "outputs": []
    },
    {
      "metadata": {
        "trusted": true,
        "_uuid": "8129cfd41e782cfed24be715f2fde1f242fd0d30"
      },
      "cell_type": "code",
      "source": "",
      "execution_count": null,
      "outputs": []
    },
    {
      "metadata": {
        "_uuid": "5b1c5d8f1f9c983d003d6f66046745f19eb4149a"
      },
      "cell_type": "markdown",
      "source": "## Binary Classification"
    },
    {
      "metadata": {
        "trusted": true,
        "_uuid": "1f2fb6f3852c87e22cddc4014c87a028b358f0dc"
      },
      "cell_type": "code",
      "source": "# no_cgs_df = train_df[train_df.loc[:, target_name] == 'NC']\n# cgs_df = train_df[train_df.loc[:, target_name] != 'NC']",
      "execution_count": null,
      "outputs": []
    },
    {
      "metadata": {
        "trusted": true,
        "_uuid": "9b35d6224fe3ce01b306bab2f9c4497ac8338898"
      },
      "cell_type": "code",
      "source": "",
      "execution_count": null,
      "outputs": []
    },
    {
      "metadata": {
        "trusted": true,
        "_uuid": "c2db3d4621e8654de4d48b6894fe8e281e866a5a"
      },
      "cell_type": "code",
      "source": "",
      "execution_count": null,
      "outputs": []
    }
  ],
  "metadata": {
    "kernelspec": {
      "display_name": "Python 3",
      "language": "python",
      "name": "python3"
    },
    "language_info": {
      "name": "python",
      "version": "3.6.6",
      "mimetype": "text/x-python",
      "codemirror_mode": {
        "name": "ipython",
        "version": 3
      },
      "pygments_lexer": "ipython3",
      "nbconvert_exporter": "python",
      "file_extension": ".py"
    }
  },
  "nbformat": 4,
  "nbformat_minor": 1
}